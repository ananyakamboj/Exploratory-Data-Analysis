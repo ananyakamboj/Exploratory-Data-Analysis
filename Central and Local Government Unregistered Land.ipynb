{
 "cells": [
  {
   "cell_type": "markdown",
   "metadata": {},
   "source": [
    "# Central and Local Government Unregistered Land"
   ]
  },
  {
   "cell_type": "markdown",
   "metadata": {},
   "source": [
    "-Ministry of Housing, Communities and Local Government \n",
    "Last updated: 06 August 2020"
   ]
  },
  {
   "cell_type": "markdown",
   "metadata": {},
   "source": [
    "A list of central and local government land in England, which may not be registered with HM Land Registry (HMLR).\n",
    "\n",
    "HMLR has created this dataset for the Ministry for Housing, Communities and Local Government (MHCLG) by combining HMLR freehold polygon data with the public sector ownership data currently openly available from the Office of Government Property.\n",
    "\n",
    "The following fields comprise the address data included in the dataset\n",
    "\n",
    "Property Name,\n",
    "Street No,\n",
    "Road,\n",
    "Town,\n",
    "Postcode"
   ]
  },
  {
   "cell_type": "code",
   "execution_count": 1,
   "metadata": {},
   "outputs": [],
   "source": [
    "import numpy as np\n",
    "import pandas as pd\n",
    "import matplotlib.pyplot as plt\n",
    "import seaborn as sns"
   ]
  },
  {
   "cell_type": "code",
   "execution_count": 5,
   "metadata": {},
   "outputs": [],
   "source": [
    "df = pd. read_csv('ul.csv')"
   ]
  },
  {
   "cell_type": "code",
   "execution_count": 6,
   "metadata": {},
   "outputs": [
    {
     "data": {
      "text/html": [
       "<div>\n",
       "<style scoped>\n",
       "    .dataframe tbody tr th:only-of-type {\n",
       "        vertical-align: middle;\n",
       "    }\n",
       "\n",
       "    .dataframe tbody tr th {\n",
       "        vertical-align: top;\n",
       "    }\n",
       "\n",
       "    .dataframe thead th {\n",
       "        text-align: right;\n",
       "    }\n",
       "</style>\n",
       "<table border=\"1\" class=\"dataframe\">\n",
       "  <thead>\n",
       "    <tr style=\"text-align: right;\">\n",
       "      <th></th>\n",
       "      <th>Unique_Reference_Number</th>\n",
       "      <th>Property_Name</th>\n",
       "      <th>Property_Centre</th>\n",
       "      <th>Department</th>\n",
       "      <th>Town</th>\n",
       "      <th>Postcode</th>\n",
       "      <th>LandAreaHA</th>\n",
       "      <th>OSGBGridRefEast</th>\n",
       "      <th>OSGBGridRefNorth</th>\n",
       "      <th>ONS_Administrative_Area</th>\n",
       "      <th>ONS_CODE</th>\n",
       "    </tr>\n",
       "  </thead>\n",
       "  <tbody>\n",
       "    <tr>\n",
       "      <th>0</th>\n",
       "      <td>119866</td>\n",
       "      <td>JAFFRAY BEHAVIOURAL SUPPORT CENTRE</td>\n",
       "      <td>BIRMINGHAM CITY COUNCIL (BIR)</td>\n",
       "      <td>Local Authorities</td>\n",
       "      <td>BIRMINGHAM</td>\n",
       "      <td>B236AB</td>\n",
       "      <td>1.2774</td>\n",
       "      <td>410318.0938</td>\n",
       "      <td>291177.4063</td>\n",
       "      <td>Birmingham</td>\n",
       "      <td>E08000025</td>\n",
       "    </tr>\n",
       "    <tr>\n",
       "      <th>1</th>\n",
       "      <td>138624</td>\n",
       "      <td>UNIT 1A UNITED DOWNS IND. EST.</td>\n",
       "      <td>CORNWALL COUNCIL (CON)</td>\n",
       "      <td>Local Authorities</td>\n",
       "      <td>REDRUTH</td>\n",
       "      <td>TR165HY</td>\n",
       "      <td>0.0100</td>\n",
       "      <td>174555.0000</td>\n",
       "      <td>41474.0000</td>\n",
       "      <td>Cornwall</td>\n",
       "      <td>E06000052</td>\n",
       "    </tr>\n",
       "    <tr>\n",
       "      <th>2</th>\n",
       "      <td>138625</td>\n",
       "      <td>UNIT 2A UNITED DOWNS IND. EST.</td>\n",
       "      <td>CORNWALL COUNCIL (CON)</td>\n",
       "      <td>Local Authorities</td>\n",
       "      <td>REDRUTH</td>\n",
       "      <td>TR165HY</td>\n",
       "      <td>0.0100</td>\n",
       "      <td>174561.0000</td>\n",
       "      <td>41426.0000</td>\n",
       "      <td>Cornwall</td>\n",
       "      <td>E06000052</td>\n",
       "    </tr>\n",
       "    <tr>\n",
       "      <th>3</th>\n",
       "      <td>138626</td>\n",
       "      <td>UNIT 1B UNITED DOWNS IND. EST.</td>\n",
       "      <td>CORNWALL COUNCIL (CON)</td>\n",
       "      <td>Local Authorities</td>\n",
       "      <td>REDRUTH</td>\n",
       "      <td>TR165HY</td>\n",
       "      <td>0.0100</td>\n",
       "      <td>174562.0000</td>\n",
       "      <td>41477.0000</td>\n",
       "      <td>Cornwall</td>\n",
       "      <td>E06000052</td>\n",
       "    </tr>\n",
       "    <tr>\n",
       "      <th>4</th>\n",
       "      <td>138627</td>\n",
       "      <td>UNIT 1C UNITED DOWNS IND. EST.</td>\n",
       "      <td>CORNWALL COUNCIL (CON)</td>\n",
       "      <td>Local Authorities</td>\n",
       "      <td>REDRUTH</td>\n",
       "      <td>TR165HY</td>\n",
       "      <td>0.0100</td>\n",
       "      <td>174570.0000</td>\n",
       "      <td>41482.0000</td>\n",
       "      <td>Cornwall</td>\n",
       "      <td>E06000052</td>\n",
       "    </tr>\n",
       "  </tbody>\n",
       "</table>\n",
       "</div>"
      ],
      "text/plain": [
       "   Unique_Reference_Number                       Property_Name  \\\n",
       "0                   119866  JAFFRAY BEHAVIOURAL SUPPORT CENTRE   \n",
       "1                   138624      UNIT 1A UNITED DOWNS IND. EST.   \n",
       "2                   138625      UNIT 2A UNITED DOWNS IND. EST.   \n",
       "3                   138626      UNIT 1B UNITED DOWNS IND. EST.   \n",
       "4                   138627      UNIT 1C UNITED DOWNS IND. EST.   \n",
       "\n",
       "                 Property_Centre         Department        Town Postcode  \\\n",
       "0  BIRMINGHAM CITY COUNCIL (BIR)  Local Authorities  BIRMINGHAM   B236AB   \n",
       "1         CORNWALL COUNCIL (CON)  Local Authorities     REDRUTH  TR165HY   \n",
       "2         CORNWALL COUNCIL (CON)  Local Authorities     REDRUTH  TR165HY   \n",
       "3         CORNWALL COUNCIL (CON)  Local Authorities     REDRUTH  TR165HY   \n",
       "4         CORNWALL COUNCIL (CON)  Local Authorities     REDRUTH  TR165HY   \n",
       "\n",
       "   LandAreaHA  OSGBGridRefEast  OSGBGridRefNorth ONS_Administrative_Area  \\\n",
       "0      1.2774      410318.0938       291177.4063              Birmingham   \n",
       "1      0.0100      174555.0000        41474.0000                Cornwall   \n",
       "2      0.0100      174561.0000        41426.0000                Cornwall   \n",
       "3      0.0100      174562.0000        41477.0000                Cornwall   \n",
       "4      0.0100      174570.0000        41482.0000                Cornwall   \n",
       "\n",
       "    ONS_CODE  \n",
       "0  E08000025  \n",
       "1  E06000052  \n",
       "2  E06000052  \n",
       "3  E06000052  \n",
       "4  E06000052  "
      ]
     },
     "execution_count": 6,
     "metadata": {},
     "output_type": "execute_result"
    }
   ],
   "source": [
    "df.head()"
   ]
  },
  {
   "cell_type": "code",
   "execution_count": 7,
   "metadata": {},
   "outputs": [
    {
     "data": {
      "text/plain": [
       "(16608, 11)"
      ]
     },
     "execution_count": 7,
     "metadata": {},
     "output_type": "execute_result"
    }
   ],
   "source": [
    "df.shape\n"
   ]
  },
  {
   "cell_type": "code",
   "execution_count": 8,
   "metadata": {},
   "outputs": [
    {
     "data": {
      "text/plain": [
       "BIRMINGHAM      3281\n",
       "LIVERPOOL        900\n",
       "COVENTRY         571\n",
       "BARNSLEY         466\n",
       "ROCHDALE         390\n",
       "                ... \n",
       "THAME              1\n",
       "EGHAM              1\n",
       "BELPER             1\n",
       "SOUTH PETHER       1\n",
       "WASHINGTON         1\n",
       "Name: Town, Length: 733, dtype: int64"
      ]
     },
     "execution_count": 8,
     "metadata": {},
     "output_type": "execute_result"
    }
   ],
   "source": [
    "df['Town'].value_counts()"
   ]
  },
  {
   "cell_type": "markdown",
   "metadata": {},
   "source": [
    "### INSIGHT 1:\n",
    "1. Bimingham has the highest unlisted properties.\n",
    "2. Liverpool and Coventry have the second and third highest number of unlisted properties."
   ]
  },
  {
   "cell_type": "code",
   "execution_count": 9,
   "metadata": {},
   "outputs": [
    {
     "name": "stdout",
     "output_type": "stream",
     "text": [
      "<class 'pandas.core.frame.DataFrame'>\n",
      "RangeIndex: 16608 entries, 0 to 16607\n",
      "Data columns (total 11 columns):\n",
      " #   Column                   Non-Null Count  Dtype  \n",
      "---  ------                   --------------  -----  \n",
      " 0   Unique_Reference_Number  16608 non-null  int64  \n",
      " 1   Property_Name            16608 non-null  object \n",
      " 2   Property_Centre          16608 non-null  object \n",
      " 3   Department               16608 non-null  object \n",
      " 4   Town                     16608 non-null  object \n",
      " 5   Postcode                 16309 non-null  object \n",
      " 6   LandAreaHA               15322 non-null  float64\n",
      " 7   OSGBGridRefEast          16608 non-null  float64\n",
      " 8   OSGBGridRefNorth         16608 non-null  float64\n",
      " 9   ONS_Administrative_Area  16608 non-null  object \n",
      " 10  ONS_CODE                 16608 non-null  object \n",
      "dtypes: float64(3), int64(1), object(7)\n",
      "memory usage: 1.4+ MB\n"
     ]
    }
   ],
   "source": [
    "df.info()"
   ]
  },
  {
   "cell_type": "code",
   "execution_count": 11,
   "metadata": {},
   "outputs": [
    {
     "data": {
      "text/plain": [
       "BIRMINGHAM CITY COUNCIL (BIR)                       3301\n",
       "LIVERPOOL CITY COUNCIL (LIV)                         894\n",
       "COVENTRY CITY COUNCIL (COV)                          569\n",
       "HAMPSHIRE COUNTY COUNCIL (HAM)                       524\n",
       "BARNSLEY METROPOLITAN BOROUGH COUNCIL (BNS)          502\n",
       "                                                    ... \n",
       "LONDON BOROUGH OF WALTHAM FOREST (WFT)                 1\n",
       "NORTH WEST LEICESTERSHIRE DISTRICT COUNCIL (NWL)       1\n",
       "MOJ - HMCTS (MIDLANDS)                                 1\n",
       "DEFRA - ENVIRONMENT AGENCY SOUTH WEST                  1\n",
       "LONDON BOROUGH OF HOUNSLOW (HNS)                       1\n",
       "Name: Property_Centre, Length: 252, dtype: int64"
      ]
     },
     "execution_count": 11,
     "metadata": {},
     "output_type": "execute_result"
    }
   ],
   "source": [
    "df['Property_Centre'].value_counts()"
   ]
  },
  {
   "cell_type": "markdown",
   "metadata": {},
   "source": [
    "### INSIGHT 2:\n",
    "Out of 3281 properties in Birmingham, Birmingham City Council owns 3301 properties.\n"
   ]
  },
  {
   "cell_type": "code",
   "execution_count": 20,
   "metadata": {},
   "outputs": [
    {
     "name": "stdout",
     "output_type": "stream",
     "text": [
      "<class 'pandas.core.frame.DataFrame'>\n",
      "RangeIndex: 16608 entries, 0 to 16607\n",
      "Data columns (total 11 columns):\n",
      " #   Column                   Non-Null Count  Dtype  \n",
      "---  ------                   --------------  -----  \n",
      " 0   Unique_Reference_Number  16608 non-null  int64  \n",
      " 1   Property_Name            16608 non-null  object \n",
      " 2   Property_Centre          16608 non-null  object \n",
      " 3   Department               16608 non-null  object \n",
      " 4   Town                     16608 non-null  object \n",
      " 5   Postcode                 16309 non-null  object \n",
      " 6   LandAreaHA               15322 non-null  float64\n",
      " 7   OSGBGridRefEast          16608 non-null  float64\n",
      " 8   OSGBGridRefNorth         16608 non-null  float64\n",
      " 9   ONS_Administrative_Area  16608 non-null  object \n",
      " 10  ONS_CODE                 16608 non-null  object \n",
      "dtypes: float64(3), int64(1), object(7)\n",
      "memory usage: 1.4+ MB\n"
     ]
    }
   ],
   "source": [
    "df.info()"
   ]
  },
  {
   "cell_type": "markdown",
   "metadata": {},
   "source": [
    "# INSIGHT 3:\n",
    "There are several null values in the Land Area column. The data is incomplete.    "
   ]
  },
  {
   "cell_type": "code",
   "execution_count": 22,
   "metadata": {},
   "outputs": [
    {
     "data": {
      "text/html": [
       "<div>\n",
       "<style scoped>\n",
       "    .dataframe tbody tr th:only-of-type {\n",
       "        vertical-align: middle;\n",
       "    }\n",
       "\n",
       "    .dataframe tbody tr th {\n",
       "        vertical-align: top;\n",
       "    }\n",
       "\n",
       "    .dataframe thead th {\n",
       "        text-align: right;\n",
       "    }\n",
       "</style>\n",
       "<table border=\"1\" class=\"dataframe\">\n",
       "  <thead>\n",
       "    <tr style=\"text-align: right;\">\n",
       "      <th></th>\n",
       "      <th>Unique_Reference_Number</th>\n",
       "      <th>LandAreaHA</th>\n",
       "      <th>OSGBGridRefEast</th>\n",
       "      <th>OSGBGridRefNorth</th>\n",
       "    </tr>\n",
       "  </thead>\n",
       "  <tbody>\n",
       "    <tr>\n",
       "      <th>count</th>\n",
       "      <td>16608.000000</td>\n",
       "      <td>15322.000000</td>\n",
       "      <td>16608.000000</td>\n",
       "      <td>16608.000000</td>\n",
       "    </tr>\n",
       "    <tr>\n",
       "      <th>mean</th>\n",
       "      <td>261610.104528</td>\n",
       "      <td>20.135247</td>\n",
       "      <td>424522.137738</td>\n",
       "      <td>297498.912031</td>\n",
       "    </tr>\n",
       "    <tr>\n",
       "      <th>std</th>\n",
       "      <td>153398.734811</td>\n",
       "      <td>380.243934</td>\n",
       "      <td>71329.466615</td>\n",
       "      <td>114622.830447</td>\n",
       "    </tr>\n",
       "    <tr>\n",
       "      <th>min</th>\n",
       "      <td>20853.000000</td>\n",
       "      <td>0.000000</td>\n",
       "      <td>90118.000000</td>\n",
       "      <td>10384.000000</td>\n",
       "    </tr>\n",
       "    <tr>\n",
       "      <th>25%</th>\n",
       "      <td>158064.250000</td>\n",
       "      <td>0.010000</td>\n",
       "      <td>390573.750000</td>\n",
       "      <td>222960.500000</td>\n",
       "    </tr>\n",
       "    <tr>\n",
       "      <th>50%</th>\n",
       "      <td>234893.500000</td>\n",
       "      <td>0.066350</td>\n",
       "      <td>410846.843750</td>\n",
       "      <td>288889.000000</td>\n",
       "    </tr>\n",
       "    <tr>\n",
       "      <th>75%</th>\n",
       "      <td>326686.250000</td>\n",
       "      <td>0.545225</td>\n",
       "      <td>451496.000000</td>\n",
       "      <td>391245.500000</td>\n",
       "    </tr>\n",
       "    <tr>\n",
       "      <th>max</th>\n",
       "      <td>899953.000000</td>\n",
       "      <td>26808.408200</td>\n",
       "      <td>654838.000000</td>\n",
       "      <td>653417.000000</td>\n",
       "    </tr>\n",
       "  </tbody>\n",
       "</table>\n",
       "</div>"
      ],
      "text/plain": [
       "       Unique_Reference_Number    LandAreaHA  OSGBGridRefEast  \\\n",
       "count             16608.000000  15322.000000     16608.000000   \n",
       "mean             261610.104528     20.135247    424522.137738   \n",
       "std              153398.734811    380.243934     71329.466615   \n",
       "min               20853.000000      0.000000     90118.000000   \n",
       "25%              158064.250000      0.010000    390573.750000   \n",
       "50%              234893.500000      0.066350    410846.843750   \n",
       "75%              326686.250000      0.545225    451496.000000   \n",
       "max              899953.000000  26808.408200    654838.000000   \n",
       "\n",
       "       OSGBGridRefNorth  \n",
       "count      16608.000000  \n",
       "mean      297498.912031  \n",
       "std       114622.830447  \n",
       "min        10384.000000  \n",
       "25%       222960.500000  \n",
       "50%       288889.000000  \n",
       "75%       391245.500000  \n",
       "max       653417.000000  "
      ]
     },
     "execution_count": 22,
     "metadata": {},
     "output_type": "execute_result"
    }
   ],
   "source": [
    "df.describe()"
   ]
  },
  {
   "cell_type": "markdown",
   "metadata": {},
   "source": [
    "# Insight 4:\n",
    "The average area accross England is 20.135"
   ]
  },
  {
   "cell_type": "markdown",
   "metadata": {},
   "source": [
    "# Insight 5:\n",
    "Maximum area available is 26808.40820 which is available in Lancaster. "
   ]
  },
  {
   "cell_type": "code",
   "execution_count": 30,
   "metadata": {},
   "outputs": [
    {
     "data": {
      "text/html": [
       "<div>\n",
       "<style scoped>\n",
       "    .dataframe tbody tr th:only-of-type {\n",
       "        vertical-align: middle;\n",
       "    }\n",
       "\n",
       "    .dataframe tbody tr th {\n",
       "        vertical-align: top;\n",
       "    }\n",
       "\n",
       "    .dataframe thead th {\n",
       "        text-align: right;\n",
       "    }\n",
       "</style>\n",
       "<table border=\"1\" class=\"dataframe\">\n",
       "  <thead>\n",
       "    <tr style=\"text-align: right;\">\n",
       "      <th></th>\n",
       "      <th>Unique_Reference_Number</th>\n",
       "      <th>Property_Name</th>\n",
       "      <th>Property_Centre</th>\n",
       "      <th>Department</th>\n",
       "      <th>Town</th>\n",
       "      <th>Postcode</th>\n",
       "      <th>LandAreaHA</th>\n",
       "      <th>OSGBGridRefEast</th>\n",
       "      <th>OSGBGridRefNorth</th>\n",
       "      <th>ONS_Administrative_Area</th>\n",
       "      <th>ONS_CODE</th>\n",
       "    </tr>\n",
       "  </thead>\n",
       "  <tbody>\n",
       "    <tr>\n",
       "      <th>10027</th>\n",
       "      <td>261029</td>\n",
       "      <td>QUERNMORE ROAD - HIGHFIELD RECREATION GROUND -...</td>\n",
       "      <td>LANCASTER CITY COUNCIL (LAC)</td>\n",
       "      <td>Local Authorities</td>\n",
       "      <td>LANCASTER</td>\n",
       "      <td>LA13ES</td>\n",
       "      <td>26808.4082</td>\n",
       "      <td>348678.0</td>\n",
       "      <td>461623.0</td>\n",
       "      <td>Lancaster</td>\n",
       "      <td>E07000121</td>\n",
       "    </tr>\n",
       "  </tbody>\n",
       "</table>\n",
       "</div>"
      ],
      "text/plain": [
       "       Unique_Reference_Number  \\\n",
       "10027                   261029   \n",
       "\n",
       "                                           Property_Name  \\\n",
       "10027  QUERNMORE ROAD - HIGHFIELD RECREATION GROUND -...   \n",
       "\n",
       "                    Property_Centre         Department       Town Postcode  \\\n",
       "10027  LANCASTER CITY COUNCIL (LAC)  Local Authorities  LANCASTER   LA13ES   \n",
       "\n",
       "       LandAreaHA  OSGBGridRefEast  OSGBGridRefNorth ONS_Administrative_Area  \\\n",
       "10027  26808.4082         348678.0          461623.0               Lancaster   \n",
       "\n",
       "        ONS_CODE  \n",
       "10027  E07000121  "
      ]
     },
     "execution_count": 30,
     "metadata": {},
     "output_type": "execute_result"
    }
   ],
   "source": [
    "df.loc[df['LandAreaHA']==26808.408200]"
   ]
  },
  {
   "cell_type": "code",
   "execution_count": null,
   "metadata": {},
   "outputs": [],
   "source": []
  }
 ],
 "metadata": {
  "kernelspec": {
   "display_name": "Python 3",
   "language": "python",
   "name": "python3"
  },
  "language_info": {
   "codemirror_mode": {
    "name": "ipython",
    "version": 3
   },
   "file_extension": ".py",
   "mimetype": "text/x-python",
   "name": "python",
   "nbconvert_exporter": "python",
   "pygments_lexer": "ipython3",
   "version": "3.7.6"
  }
 },
 "nbformat": 4,
 "nbformat_minor": 4
}
