{
 "cells": [
  {
   "cell_type": "markdown",
   "metadata": {},
   "source": [
    "# HM Land Registry Data-Q1 2020(April-June)\n"
   ]
  },
  {
   "cell_type": "code",
   "execution_count": null,
   "metadata": {},
   "outputs": [],
   "source": []
  },
  {
   "cell_type": "code",
   "execution_count": null,
   "metadata": {},
   "outputs": [],
   "source": []
  },
  {
   "cell_type": "markdown",
   "metadata": {},
   "source": [
    "Contains HM Land Registry data © Crown copyright and database right [year of supply or date of publication]. This data is licensed under the Open Government Licence v3.0."
   ]
  },
  {
   "cell_type": "markdown",
   "metadata": {},
   "source": [
    "This dataset shows:\n",
    "\n",
    "The 500 customers that send the most applications to HM Land Registry.\n",
    "The number and type of applications received and completed.\n",
    "How many requests for information are sent to customers.\n"
   ]
  },
  {
   "cell_type": "markdown",
   "metadata": {},
   "source": [
    "##### FR – First registration\n",
    "An application for a first registration of land both freehold and leasehold. For leasehold, this applies when the landlord’s title is not registered.\n",
    "\n",
    "##### TP – Transfer of part\n",
    "An application to register the transfer of part of a registered title.\n",
    "\n",
    "##### DFL – Dispositionary first lease\n",
    "An application for the registration of a new lease granted by the proprietor of registered land.\n",
    "\n",
    "##### Register update\n",
    "An application to update details of an existing title on the register.\n",
    "\n",
    "##### Requests for information\n",
    "This is the number of requests for information we send to the customer. \n",
    "\n",
    "##### Applications received\n",
    "This is the number of applications made by the customer. \n",
    "\n",
    "##### Applications completed\n",
    "This is the number of applications completed by HM Land Registry. "
   ]
  },
  {
   "cell_type": "code",
   "execution_count": 8,
   "metadata": {},
   "outputs": [],
   "source": [
    "import numpy as np\n",
    "import pandas as pd\n",
    "import matplotlib.pyplot as plt\n",
    "import seaborn as sns"
   ]
  },
  {
   "cell_type": "code",
   "execution_count": 9,
   "metadata": {},
   "outputs": [],
   "source": [
    "df = pd.read_csv('ri.csv')"
   ]
  },
  {
   "cell_type": "code",
   "execution_count": 10,
   "metadata": {
    "scrolled": true
   },
   "outputs": [
    {
     "data": {
      "text/html": [
       "<div>\n",
       "<style scoped>\n",
       "    .dataframe tbody tr th:only-of-type {\n",
       "        vertical-align: middle;\n",
       "    }\n",
       "\n",
       "    .dataframe tbody tr th {\n",
       "        vertical-align: top;\n",
       "    }\n",
       "\n",
       "    .dataframe thead th {\n",
       "        text-align: right;\n",
       "    }\n",
       "</style>\n",
       "<table border=\"1\" class=\"dataframe\">\n",
       "  <thead>\n",
       "    <tr style=\"text-align: right;\">\n",
       "      <th></th>\n",
       "      <th>Customer</th>\n",
       "      <th>FR_Intake</th>\n",
       "      <th>TP_Intake</th>\n",
       "      <th>DFL_Intake</th>\n",
       "      <th>Register_update_intake</th>\n",
       "      <th>Total_intake</th>\n",
       "      <th>FR_Output</th>\n",
       "      <th>TP_Output</th>\n",
       "      <th>DFL_Output</th>\n",
       "      <th>Register_update_output</th>\n",
       "      <th>Total_output</th>\n",
       "      <th>FR_requests_for_information</th>\n",
       "      <th>TP_requests_for_information</th>\n",
       "      <th>DFL_requests_for_information</th>\n",
       "      <th>Register_update_requests_for_information</th>\n",
       "      <th>Total_requests_for_information</th>\n",
       "    </tr>\n",
       "  </thead>\n",
       "  <tbody>\n",
       "    <tr>\n",
       "      <th>0</th>\n",
       "      <td>1st Stop Financial</td>\n",
       "      <td>0</td>\n",
       "      <td>0</td>\n",
       "      <td>0</td>\n",
       "      <td>465</td>\n",
       "      <td>465</td>\n",
       "      <td>0</td>\n",
       "      <td>0</td>\n",
       "      <td>0</td>\n",
       "      <td>485</td>\n",
       "      <td>485</td>\n",
       "      <td>0</td>\n",
       "      <td>0</td>\n",
       "      <td>0</td>\n",
       "      <td>28</td>\n",
       "      <td>28</td>\n",
       "    </tr>\n",
       "    <tr>\n",
       "      <th>1</th>\n",
       "      <td>A Shade Greener</td>\n",
       "      <td>0</td>\n",
       "      <td>14</td>\n",
       "      <td>0</td>\n",
       "      <td>253</td>\n",
       "      <td>267</td>\n",
       "      <td>0</td>\n",
       "      <td>8</td>\n",
       "      <td>0</td>\n",
       "      <td>248</td>\n",
       "      <td>256</td>\n",
       "      <td>0</td>\n",
       "      <td>4</td>\n",
       "      <td>0</td>\n",
       "      <td>10</td>\n",
       "      <td>14</td>\n",
       "    </tr>\n",
       "    <tr>\n",
       "      <th>2</th>\n",
       "      <td>A V Rillo &amp; Co</td>\n",
       "      <td>5</td>\n",
       "      <td>13</td>\n",
       "      <td>5</td>\n",
       "      <td>235</td>\n",
       "      <td>258</td>\n",
       "      <td>2</td>\n",
       "      <td>1</td>\n",
       "      <td>1</td>\n",
       "      <td>147</td>\n",
       "      <td>151</td>\n",
       "      <td>1</td>\n",
       "      <td>1</td>\n",
       "      <td>0</td>\n",
       "      <td>39</td>\n",
       "      <td>41</td>\n",
       "    </tr>\n",
       "    <tr>\n",
       "      <th>3</th>\n",
       "      <td>Abbey National PLC</td>\n",
       "      <td>0</td>\n",
       "      <td>0</td>\n",
       "      <td>0</td>\n",
       "      <td>15369</td>\n",
       "      <td>15369</td>\n",
       "      <td>0</td>\n",
       "      <td>0</td>\n",
       "      <td>0</td>\n",
       "      <td>14649</td>\n",
       "      <td>14649</td>\n",
       "      <td>0</td>\n",
       "      <td>0</td>\n",
       "      <td>0</td>\n",
       "      <td>0</td>\n",
       "      <td>0</td>\n",
       "    </tr>\n",
       "    <tr>\n",
       "      <th>4</th>\n",
       "      <td>Abensons &amp; Co</td>\n",
       "      <td>5</td>\n",
       "      <td>13</td>\n",
       "      <td>9</td>\n",
       "      <td>198</td>\n",
       "      <td>225</td>\n",
       "      <td>1</td>\n",
       "      <td>1</td>\n",
       "      <td>8</td>\n",
       "      <td>139</td>\n",
       "      <td>149</td>\n",
       "      <td>0</td>\n",
       "      <td>0</td>\n",
       "      <td>6</td>\n",
       "      <td>48</td>\n",
       "      <td>54</td>\n",
       "    </tr>\n",
       "  </tbody>\n",
       "</table>\n",
       "</div>"
      ],
      "text/plain": [
       "             Customer  FR_Intake  TP_Intake  DFL_Intake  \\\n",
       "0  1st Stop Financial          0          0           0   \n",
       "1     A Shade Greener          0         14           0   \n",
       "2      A V Rillo & Co          5         13           5   \n",
       "3  Abbey National PLC          0          0           0   \n",
       "4       Abensons & Co          5         13           9   \n",
       "\n",
       "   Register_update_intake  Total_intake  FR_Output  TP_Output  DFL_Output  \\\n",
       "0                     465           465          0          0           0   \n",
       "1                     253           267          0          8           0   \n",
       "2                     235           258          2          1           1   \n",
       "3                   15369         15369          0          0           0   \n",
       "4                     198           225          1          1           8   \n",
       "\n",
       "   Register_update_output  Total_output  FR_requests_for_information  \\\n",
       "0                     485           485                            0   \n",
       "1                     248           256                            0   \n",
       "2                     147           151                            1   \n",
       "3                   14649         14649                            0   \n",
       "4                     139           149                            0   \n",
       "\n",
       "   TP_requests_for_information  DFL_requests_for_information  \\\n",
       "0                            0                             0   \n",
       "1                            4                             0   \n",
       "2                            1                             0   \n",
       "3                            0                             0   \n",
       "4                            0                             6   \n",
       "\n",
       "   Register_update_requests_for_information  Total_requests_for_information  \n",
       "0                                        28                              28  \n",
       "1                                        10                              14  \n",
       "2                                        39                              41  \n",
       "3                                         0                               0  \n",
       "4                                        48                              54  "
      ]
     },
     "execution_count": 10,
     "metadata": {},
     "output_type": "execute_result"
    }
   ],
   "source": [
    "df.head()"
   ]
  },
  {
   "cell_type": "code",
   "execution_count": 35,
   "metadata": {},
   "outputs": [
    {
     "data": {
      "text/plain": [
       "(500, 16)"
      ]
     },
     "execution_count": 35,
     "metadata": {},
     "output_type": "execute_result"
    }
   ],
   "source": [
    "df.shape\n"
   ]
  },
  {
   "cell_type": "code",
   "execution_count": 11,
   "metadata": {},
   "outputs": [
    {
     "data": {
      "text/plain": [
       "Index(['Customer', 'FR_Intake', 'TP_Intake', 'DFL_Intake',\n",
       "       'Register_update_intake', 'Total_intake', 'FR_Output', 'TP_Output',\n",
       "       'DFL_Output', 'Register_update_output', 'Total_output',\n",
       "       'FR_requests_for_information', 'TP_requests_for_information',\n",
       "       'DFL_requests_for_information',\n",
       "       'Register_update_requests_for_information',\n",
       "       'Total_requests_for_information'],\n",
       "      dtype='object')"
      ]
     },
     "execution_count": 11,
     "metadata": {},
     "output_type": "execute_result"
    }
   ],
   "source": [
    "df.columns"
   ]
  },
  {
   "cell_type": "code",
   "execution_count": 12,
   "metadata": {},
   "outputs": [
    {
     "data": {
      "text/plain": [
       "337"
      ]
     },
     "execution_count": 12,
     "metadata": {},
     "output_type": "execute_result"
    }
   ],
   "source": [
    "#FR – First registration\n",
    "df['FR_requests_for_information'].sum()"
   ]
  },
  {
   "cell_type": "code",
   "execution_count": 13,
   "metadata": {},
   "outputs": [
    {
     "data": {
      "text/plain": [
       "2365"
      ]
     },
     "execution_count": 13,
     "metadata": {},
     "output_type": "execute_result"
    }
   ],
   "source": [
    "#TP – Transfer of part\n",
    "df['TP_requests_for_information'].sum()"
   ]
  },
  {
   "cell_type": "code",
   "execution_count": 14,
   "metadata": {},
   "outputs": [
    {
     "data": {
      "text/plain": [
       "2496"
      ]
     },
     "execution_count": 14,
     "metadata": {},
     "output_type": "execute_result"
    }
   ],
   "source": [
    "#DFL – Dispositionary first lease\n",
    "df['DFL_requests_for_information'].sum()"
   ]
  },
  {
   "cell_type": "markdown",
   "metadata": {},
   "source": [
    "### Insight 1:\n",
    "There were a total of 337 First Registeration information requests, 2365 Transfer deed information requests and 2496 new lease registeration information applications.\n",
    "We can infer that the customers in England are doing more leasing, renting than buying new property. \n",
    "Also, customers are purchasing pre-owned lands rather than buying new ones."
   ]
  },
  {
   "cell_type": "code",
   "execution_count": 23,
   "metadata": {},
   "outputs": [
    {
     "name": "stdout",
     "output_type": "stream",
     "text": [
      "Total number of applications received: 559720\n"
     ]
    }
   ],
   "source": [
    "a=df['Total_intake'].sum()\n",
    "print('Total number of applications received:',a)"
   ]
  },
  {
   "cell_type": "code",
   "execution_count": 24,
   "metadata": {},
   "outputs": [
    {
     "name": "stdout",
     "output_type": "stream",
     "text": [
      "Total number of applications completed: 432305\n"
     ]
    }
   ],
   "source": [
    "b=df['Total_output'].sum()\n",
    "print('Total number of applications completed:',b)"
   ]
  },
  {
   "cell_type": "code",
   "execution_count": 27,
   "metadata": {},
   "outputs": [
    {
     "name": "stdout",
     "output_type": "stream",
     "text": [
      "Efficiency of HM Landing: 77.23593939827056\n"
     ]
    }
   ],
   "source": [
    "e=(b/a)*100\n",
    "print('Efficiency of HM Landing:',e)"
   ]
  },
  {
   "cell_type": "markdown",
   "metadata": {},
   "source": [
    "### Insight 2:\n",
    "The efficiecy of HM Landing in completing the applications and giving the registery is 77.23%\n"
   ]
  },
  {
   "cell_type": "code",
   "execution_count": 28,
   "metadata": {},
   "outputs": [
    {
     "name": "stdout",
     "output_type": "stream",
     "text": [
      "<class 'pandas.core.frame.DataFrame'>\n",
      "RangeIndex: 500 entries, 0 to 499\n",
      "Data columns (total 16 columns):\n",
      " #   Column                                    Non-Null Count  Dtype \n",
      "---  ------                                    --------------  ----- \n",
      " 0   Customer                                  500 non-null    object\n",
      " 1   FR_Intake                                 500 non-null    int64 \n",
      " 2   TP_Intake                                 500 non-null    int64 \n",
      " 3   DFL_Intake                                500 non-null    int64 \n",
      " 4   Register_update_intake                    500 non-null    int64 \n",
      " 5   Total_intake                              500 non-null    int64 \n",
      " 6   FR_Output                                 500 non-null    int64 \n",
      " 7   TP_Output                                 500 non-null    int64 \n",
      " 8   DFL_Output                                500 non-null    int64 \n",
      " 9   Register_update_output                    500 non-null    int64 \n",
      " 10  Total_output                              500 non-null    int64 \n",
      " 11  FR_requests_for_information               500 non-null    int64 \n",
      " 12  TP_requests_for_information               500 non-null    int64 \n",
      " 13  DFL_requests_for_information              500 non-null    int64 \n",
      " 14  Register_update_requests_for_information  500 non-null    int64 \n",
      " 15  Total_requests_for_information            500 non-null    int64 \n",
      "dtypes: int64(15), object(1)\n",
      "memory usage: 62.6+ KB\n"
     ]
    }
   ],
   "source": [
    "df.info()"
   ]
  },
  {
   "cell_type": "code",
   "execution_count": 29,
   "metadata": {},
   "outputs": [
    {
     "data": {
      "text/html": [
       "<div>\n",
       "<style scoped>\n",
       "    .dataframe tbody tr th:only-of-type {\n",
       "        vertical-align: middle;\n",
       "    }\n",
       "\n",
       "    .dataframe tbody tr th {\n",
       "        vertical-align: top;\n",
       "    }\n",
       "\n",
       "    .dataframe thead th {\n",
       "        text-align: right;\n",
       "    }\n",
       "</style>\n",
       "<table border=\"1\" class=\"dataframe\">\n",
       "  <thead>\n",
       "    <tr style=\"text-align: right;\">\n",
       "      <th></th>\n",
       "      <th>FR_Intake</th>\n",
       "      <th>TP_Intake</th>\n",
       "      <th>DFL_Intake</th>\n",
       "      <th>Register_update_intake</th>\n",
       "      <th>Total_intake</th>\n",
       "      <th>FR_Output</th>\n",
       "      <th>TP_Output</th>\n",
       "      <th>DFL_Output</th>\n",
       "      <th>Register_update_output</th>\n",
       "      <th>Total_output</th>\n",
       "      <th>FR_requests_for_information</th>\n",
       "      <th>TP_requests_for_information</th>\n",
       "      <th>DFL_requests_for_information</th>\n",
       "      <th>Register_update_requests_for_information</th>\n",
       "      <th>Total_requests_for_information</th>\n",
       "    </tr>\n",
       "  </thead>\n",
       "  <tbody>\n",
       "    <tr>\n",
       "      <th>count</th>\n",
       "      <td>500.000000</td>\n",
       "      <td>500.000000</td>\n",
       "      <td>500.000000</td>\n",
       "      <td>500.000000</td>\n",
       "      <td>500.000000</td>\n",
       "      <td>500.000000</td>\n",
       "      <td>500.000000</td>\n",
       "      <td>500.000000</td>\n",
       "      <td>500.00000</td>\n",
       "      <td>500.000000</td>\n",
       "      <td>500.000000</td>\n",
       "      <td>500.000000</td>\n",
       "      <td>500.000000</td>\n",
       "      <td>500.000000</td>\n",
       "      <td>500.000000</td>\n",
       "    </tr>\n",
       "    <tr>\n",
       "      <th>mean</th>\n",
       "      <td>7.458000</td>\n",
       "      <td>31.372000</td>\n",
       "      <td>31.006000</td>\n",
       "      <td>1049.604000</td>\n",
       "      <td>1119.440000</td>\n",
       "      <td>1.318000</td>\n",
       "      <td>6.802000</td>\n",
       "      <td>7.328000</td>\n",
       "      <td>849.16200</td>\n",
       "      <td>864.610000</td>\n",
       "      <td>0.674000</td>\n",
       "      <td>4.730000</td>\n",
       "      <td>4.992000</td>\n",
       "      <td>53.136000</td>\n",
       "      <td>63.532000</td>\n",
       "    </tr>\n",
       "    <tr>\n",
       "      <th>std</th>\n",
       "      <td>10.663943</td>\n",
       "      <td>57.055098</td>\n",
       "      <td>48.400819</td>\n",
       "      <td>3296.511416</td>\n",
       "      <td>3299.552516</td>\n",
       "      <td>2.266086</td>\n",
       "      <td>11.527383</td>\n",
       "      <td>10.424094</td>\n",
       "      <td>2967.42109</td>\n",
       "      <td>2967.313384</td>\n",
       "      <td>1.225859</td>\n",
       "      <td>8.196308</td>\n",
       "      <td>7.788791</td>\n",
       "      <td>141.256108</td>\n",
       "      <td>145.898931</td>\n",
       "    </tr>\n",
       "    <tr>\n",
       "      <th>min</th>\n",
       "      <td>0.000000</td>\n",
       "      <td>0.000000</td>\n",
       "      <td>0.000000</td>\n",
       "      <td>8.000000</td>\n",
       "      <td>190.000000</td>\n",
       "      <td>0.000000</td>\n",
       "      <td>0.000000</td>\n",
       "      <td>0.000000</td>\n",
       "      <td>3.00000</td>\n",
       "      <td>3.000000</td>\n",
       "      <td>0.000000</td>\n",
       "      <td>0.000000</td>\n",
       "      <td>0.000000</td>\n",
       "      <td>0.000000</td>\n",
       "      <td>0.000000</td>\n",
       "    </tr>\n",
       "    <tr>\n",
       "      <th>25%</th>\n",
       "      <td>1.000000</td>\n",
       "      <td>5.000000</td>\n",
       "      <td>5.000000</td>\n",
       "      <td>209.750000</td>\n",
       "      <td>251.750000</td>\n",
       "      <td>0.000000</td>\n",
       "      <td>0.750000</td>\n",
       "      <td>1.000000</td>\n",
       "      <td>139.00000</td>\n",
       "      <td>149.000000</td>\n",
       "      <td>0.000000</td>\n",
       "      <td>0.000000</td>\n",
       "      <td>0.000000</td>\n",
       "      <td>18.750000</td>\n",
       "      <td>24.750000</td>\n",
       "    </tr>\n",
       "    <tr>\n",
       "      <th>50%</th>\n",
       "      <td>4.000000</td>\n",
       "      <td>14.000000</td>\n",
       "      <td>17.000000</td>\n",
       "      <td>281.500000</td>\n",
       "      <td>342.000000</td>\n",
       "      <td>1.000000</td>\n",
       "      <td>4.000000</td>\n",
       "      <td>4.000000</td>\n",
       "      <td>193.00000</td>\n",
       "      <td>205.500000</td>\n",
       "      <td>0.000000</td>\n",
       "      <td>2.000000</td>\n",
       "      <td>3.000000</td>\n",
       "      <td>32.000000</td>\n",
       "      <td>40.000000</td>\n",
       "    </tr>\n",
       "    <tr>\n",
       "      <th>75%</th>\n",
       "      <td>11.000000</td>\n",
       "      <td>35.000000</td>\n",
       "      <td>36.250000</td>\n",
       "      <td>524.000000</td>\n",
       "      <td>631.500000</td>\n",
       "      <td>2.000000</td>\n",
       "      <td>8.000000</td>\n",
       "      <td>9.000000</td>\n",
       "      <td>395.50000</td>\n",
       "      <td>414.000000</td>\n",
       "      <td>1.000000</td>\n",
       "      <td>5.250000</td>\n",
       "      <td>6.000000</td>\n",
       "      <td>50.000000</td>\n",
       "      <td>61.000000</td>\n",
       "    </tr>\n",
       "    <tr>\n",
       "      <th>max</th>\n",
       "      <td>142.000000</td>\n",
       "      <td>746.000000</td>\n",
       "      <td>538.000000</td>\n",
       "      <td>37113.000000</td>\n",
       "      <td>37113.000000</td>\n",
       "      <td>26.000000</td>\n",
       "      <td>110.000000</td>\n",
       "      <td>98.000000</td>\n",
       "      <td>35099.00000</td>\n",
       "      <td>35099.000000</td>\n",
       "      <td>12.000000</td>\n",
       "      <td>76.000000</td>\n",
       "      <td>79.000000</td>\n",
       "      <td>2221.000000</td>\n",
       "      <td>2281.000000</td>\n",
       "    </tr>\n",
       "  </tbody>\n",
       "</table>\n",
       "</div>"
      ],
      "text/plain": [
       "        FR_Intake   TP_Intake  DFL_Intake  Register_update_intake  \\\n",
       "count  500.000000  500.000000  500.000000              500.000000   \n",
       "mean     7.458000   31.372000   31.006000             1049.604000   \n",
       "std     10.663943   57.055098   48.400819             3296.511416   \n",
       "min      0.000000    0.000000    0.000000                8.000000   \n",
       "25%      1.000000    5.000000    5.000000              209.750000   \n",
       "50%      4.000000   14.000000   17.000000              281.500000   \n",
       "75%     11.000000   35.000000   36.250000              524.000000   \n",
       "max    142.000000  746.000000  538.000000            37113.000000   \n",
       "\n",
       "       Total_intake   FR_Output   TP_Output  DFL_Output  \\\n",
       "count    500.000000  500.000000  500.000000  500.000000   \n",
       "mean    1119.440000    1.318000    6.802000    7.328000   \n",
       "std     3299.552516    2.266086   11.527383   10.424094   \n",
       "min      190.000000    0.000000    0.000000    0.000000   \n",
       "25%      251.750000    0.000000    0.750000    1.000000   \n",
       "50%      342.000000    1.000000    4.000000    4.000000   \n",
       "75%      631.500000    2.000000    8.000000    9.000000   \n",
       "max    37113.000000   26.000000  110.000000   98.000000   \n",
       "\n",
       "       Register_update_output  Total_output  FR_requests_for_information  \\\n",
       "count               500.00000    500.000000                   500.000000   \n",
       "mean                849.16200    864.610000                     0.674000   \n",
       "std                2967.42109   2967.313384                     1.225859   \n",
       "min                   3.00000      3.000000                     0.000000   \n",
       "25%                 139.00000    149.000000                     0.000000   \n",
       "50%                 193.00000    205.500000                     0.000000   \n",
       "75%                 395.50000    414.000000                     1.000000   \n",
       "max               35099.00000  35099.000000                    12.000000   \n",
       "\n",
       "       TP_requests_for_information  DFL_requests_for_information  \\\n",
       "count                   500.000000                    500.000000   \n",
       "mean                      4.730000                      4.992000   \n",
       "std                       8.196308                      7.788791   \n",
       "min                       0.000000                      0.000000   \n",
       "25%                       0.000000                      0.000000   \n",
       "50%                       2.000000                      3.000000   \n",
       "75%                       5.250000                      6.000000   \n",
       "max                      76.000000                     79.000000   \n",
       "\n",
       "       Register_update_requests_for_information  \\\n",
       "count                                500.000000   \n",
       "mean                                  53.136000   \n",
       "std                                  141.256108   \n",
       "min                                    0.000000   \n",
       "25%                                   18.750000   \n",
       "50%                                   32.000000   \n",
       "75%                                   50.000000   \n",
       "max                                 2221.000000   \n",
       "\n",
       "       Total_requests_for_information  \n",
       "count                      500.000000  \n",
       "mean                        63.532000  \n",
       "std                        145.898931  \n",
       "min                          0.000000  \n",
       "25%                         24.750000  \n",
       "50%                         40.000000  \n",
       "75%                         61.000000  \n",
       "max                       2281.000000  "
      ]
     },
     "execution_count": 29,
     "metadata": {},
     "output_type": "execute_result"
    }
   ],
   "source": [
    "df.describe()"
   ]
  },
  {
   "cell_type": "code",
   "execution_count": 30,
   "metadata": {
    "scrolled": true
   },
   "outputs": [
    {
     "data": {
      "text/plain": [
       "Customer                                    1st Stop FinancialA Shade GreenerA V Rillo & C...\n",
       "FR_Intake                                                                                3729\n",
       "TP_Intake                                                                               15686\n",
       "DFL_Intake                                                                              15503\n",
       "Register_update_intake                                                                 524802\n",
       "Total_intake                                                                           559720\n",
       "FR_Output                                                                                 659\n",
       "TP_Output                                                                                3401\n",
       "DFL_Output                                                                               3664\n",
       "Register_update_output                                                                 424581\n",
       "Total_output                                                                           432305\n",
       "FR_requests_for_information                                                               337\n",
       "TP_requests_for_information                                                              2365\n",
       "DFL_requests_for_information                                                             2496\n",
       "Register_update_requests_for_information                                                26568\n",
       "Total_requests_for_information                                                          31766\n",
       "dtype: object"
      ]
     },
     "execution_count": 30,
     "metadata": {},
     "output_type": "execute_result"
    }
   ],
   "source": [
    "df.apply(np.sum)"
   ]
  },
  {
   "cell_type": "code",
   "execution_count": 31,
   "metadata": {},
   "outputs": [
    {
     "name": "stdout",
     "output_type": "stream",
     "text": [
      "17.672298203271655\n"
     ]
    }
   ],
   "source": [
    "a=df['FR_Intake'].sum()\n",
    "b=df['FR_Output'].sum()\n",
    "print(b/a*100)"
   ]
  },
  {
   "cell_type": "code",
   "execution_count": 32,
   "metadata": {},
   "outputs": [
    {
     "name": "stdout",
     "output_type": "stream",
     "text": [
      "21.681754430702536\n"
     ]
    }
   ],
   "source": [
    "a=df['TP_Intake'].sum()\n",
    "b=df['TP_Output'].sum()\n",
    "print(b/a*100)"
   ]
  },
  {
   "cell_type": "code",
   "execution_count": 33,
   "metadata": {},
   "outputs": [
    {
     "name": "stdout",
     "output_type": "stream",
     "text": [
      "23.63413532864607\n"
     ]
    }
   ],
   "source": [
    "a=df['DFL_Intake'].sum()\n",
    "b=df['DFL_Output'].sum()\n",
    "print(b/a*100)"
   ]
  },
  {
   "cell_type": "markdown",
   "metadata": {},
   "source": [
    "### Insight 3:\n",
    "We can see the First Registeration intake applications is 3729 and FR output is 659. The efficiency is only 17.67%\n",
    "Similarily for Transfer Parts and DFL(New Lease registerations) is also 21.6% and 23.63%.\n",
    "Few are the possible reasons:\n",
    "1. Some customers register for the process but backout of the process.\n",
    "2. HM Land Registery not focussing on the customer requests."
   ]
  },
  {
   "cell_type": "code",
   "execution_count": 34,
   "metadata": {},
   "outputs": [
    {
     "name": "stdout",
     "output_type": "stream",
     "text": [
      "80.90308344861491\n"
     ]
    }
   ],
   "source": [
    "a=df['Register_update_intake'].sum()\n",
    "b=df['Register_update_output'].sum()\n",
    "print(b/a*100)"
   ]
  },
  {
   "cell_type": "markdown",
   "metadata": {},
   "source": [
    "### Insight 4:\n",
    "The number of application to update the registry for the customer's details are 524802, out of which 424581 are completed, leading to the efficiency of 80.9%\n"
   ]
  },
  {
   "cell_type": "code",
   "execution_count": 37,
   "metadata": {},
   "outputs": [
    {
     "data": {
      "text/plain": [
       "Foys Solicitors                  1\n",
       "Home Property Lawyers Limited    1\n",
       "Shawbrook Bank Limited           1\n",
       "The Mortgage Works (uk) PLC      1\n",
       "Porter Dodson LLP                1\n",
       "                                ..\n",
       "Optima Legal Serivices           1\n",
       "Lambert Pugh                     1\n",
       "Harrison Drury                   1\n",
       "Irwin Mitchell                   1\n",
       "Nantes                           1\n",
       "Name: Customer, Length: 500, dtype: int64"
      ]
     },
     "execution_count": 37,
     "metadata": {},
     "output_type": "execute_result"
    }
   ],
   "source": [
    "df['Customer'].value_counts()"
   ]
  },
  {
   "cell_type": "code",
   "execution_count": 38,
   "metadata": {},
   "outputs": [
    {
     "data": {
      "text/plain": [
       "Customer                                    Your Conveyancer Limited\n",
       "FR_Intake                                                        142\n",
       "TP_Intake                                                        746\n",
       "DFL_Intake                                                       538\n",
       "Register_update_intake                                         37113\n",
       "Total_intake                                                   37113\n",
       "FR_Output                                                         26\n",
       "TP_Output                                                        110\n",
       "DFL_Output                                                        98\n",
       "Register_update_output                                         35099\n",
       "Total_output                                                   35099\n",
       "FR_requests_for_information                                       12\n",
       "TP_requests_for_information                                       76\n",
       "DFL_requests_for_information                                      79\n",
       "Register_update_requests_for_information                        2221\n",
       "Total_requests_for_information                                  2281\n",
       "dtype: object"
      ]
     },
     "execution_count": 38,
     "metadata": {},
     "output_type": "execute_result"
    }
   ],
   "source": [
    "df.apply(np.max)"
   ]
  },
  {
   "cell_type": "code",
   "execution_count": 39,
   "metadata": {},
   "outputs": [
    {
     "data": {
      "text/html": [
       "<div>\n",
       "<style scoped>\n",
       "    .dataframe tbody tr th:only-of-type {\n",
       "        vertical-align: middle;\n",
       "    }\n",
       "\n",
       "    .dataframe tbody tr th {\n",
       "        vertical-align: top;\n",
       "    }\n",
       "\n",
       "    .dataframe thead th {\n",
       "        text-align: right;\n",
       "    }\n",
       "</style>\n",
       "<table border=\"1\" class=\"dataframe\">\n",
       "  <thead>\n",
       "    <tr style=\"text-align: right;\">\n",
       "      <th></th>\n",
       "      <th>Customer</th>\n",
       "      <th>FR_Intake</th>\n",
       "      <th>TP_Intake</th>\n",
       "      <th>DFL_Intake</th>\n",
       "      <th>Register_update_intake</th>\n",
       "      <th>Total_intake</th>\n",
       "      <th>FR_Output</th>\n",
       "      <th>TP_Output</th>\n",
       "      <th>DFL_Output</th>\n",
       "      <th>Register_update_output</th>\n",
       "      <th>Total_output</th>\n",
       "      <th>FR_requests_for_information</th>\n",
       "      <th>TP_requests_for_information</th>\n",
       "      <th>DFL_requests_for_information</th>\n",
       "      <th>Register_update_requests_for_information</th>\n",
       "      <th>Total_requests_for_information</th>\n",
       "    </tr>\n",
       "  </thead>\n",
       "  <tbody>\n",
       "    <tr>\n",
       "      <th>163</th>\n",
       "      <td>Eversheds Sutherland</td>\n",
       "      <td>142</td>\n",
       "      <td>196</td>\n",
       "      <td>257</td>\n",
       "      <td>6604</td>\n",
       "      <td>7199</td>\n",
       "      <td>26</td>\n",
       "      <td>44</td>\n",
       "      <td>36</td>\n",
       "      <td>4284</td>\n",
       "      <td>4390</td>\n",
       "      <td>11</td>\n",
       "      <td>34</td>\n",
       "      <td>13</td>\n",
       "      <td>289</td>\n",
       "      <td>347</td>\n",
       "    </tr>\n",
       "  </tbody>\n",
       "</table>\n",
       "</div>"
      ],
      "text/plain": [
       "                 Customer  FR_Intake  TP_Intake  DFL_Intake  \\\n",
       "163  Eversheds Sutherland        142        196         257   \n",
       "\n",
       "     Register_update_intake  Total_intake  FR_Output  TP_Output  DFL_Output  \\\n",
       "163                    6604          7199         26         44          36   \n",
       "\n",
       "     Register_update_output  Total_output  FR_requests_for_information  \\\n",
       "163                    4284          4390                           11   \n",
       "\n",
       "     TP_requests_for_information  DFL_requests_for_information  \\\n",
       "163                           34                            13   \n",
       "\n",
       "     Register_update_requests_for_information  Total_requests_for_information  \n",
       "163                                       289                             347  "
      ]
     },
     "execution_count": 39,
     "metadata": {},
     "output_type": "execute_result"
    }
   ],
   "source": [
    "df.loc[df['FR_Intake']==142]"
   ]
  },
  {
   "cell_type": "code",
   "execution_count": 41,
   "metadata": {},
   "outputs": [
    {
     "data": {
      "text/html": [
       "<div>\n",
       "<style scoped>\n",
       "    .dataframe tbody tr th:only-of-type {\n",
       "        vertical-align: middle;\n",
       "    }\n",
       "\n",
       "    .dataframe tbody tr th {\n",
       "        vertical-align: top;\n",
       "    }\n",
       "\n",
       "    .dataframe thead th {\n",
       "        text-align: right;\n",
       "    }\n",
       "</style>\n",
       "<table border=\"1\" class=\"dataframe\">\n",
       "  <thead>\n",
       "    <tr style=\"text-align: right;\">\n",
       "      <th></th>\n",
       "      <th>Customer</th>\n",
       "      <th>FR_Intake</th>\n",
       "      <th>TP_Intake</th>\n",
       "      <th>DFL_Intake</th>\n",
       "      <th>Register_update_intake</th>\n",
       "      <th>Total_intake</th>\n",
       "      <th>FR_Output</th>\n",
       "      <th>TP_Output</th>\n",
       "      <th>DFL_Output</th>\n",
       "      <th>Register_update_output</th>\n",
       "      <th>Total_output</th>\n",
       "      <th>FR_requests_for_information</th>\n",
       "      <th>TP_requests_for_information</th>\n",
       "      <th>DFL_requests_for_information</th>\n",
       "      <th>Register_update_requests_for_information</th>\n",
       "      <th>Total_requests_for_information</th>\n",
       "    </tr>\n",
       "  </thead>\n",
       "  <tbody>\n",
       "    <tr>\n",
       "      <th>138</th>\n",
       "      <td>Direction Home (law) LLP</td>\n",
       "      <td>4</td>\n",
       "      <td>746</td>\n",
       "      <td>136</td>\n",
       "      <td>482</td>\n",
       "      <td>1368</td>\n",
       "      <td>3</td>\n",
       "      <td>110</td>\n",
       "      <td>29</td>\n",
       "      <td>302</td>\n",
       "      <td>444</td>\n",
       "      <td>0</td>\n",
       "      <td>59</td>\n",
       "      <td>17</td>\n",
       "      <td>74</td>\n",
       "      <td>150</td>\n",
       "    </tr>\n",
       "  </tbody>\n",
       "</table>\n",
       "</div>"
      ],
      "text/plain": [
       "                     Customer  FR_Intake  TP_Intake  DFL_Intake  \\\n",
       "138  Direction Home (law) LLP          4        746         136   \n",
       "\n",
       "     Register_update_intake  Total_intake  FR_Output  TP_Output  DFL_Output  \\\n",
       "138                     482          1368          3        110          29   \n",
       "\n",
       "     Register_update_output  Total_output  FR_requests_for_information  \\\n",
       "138                     302           444                            0   \n",
       "\n",
       "     TP_requests_for_information  DFL_requests_for_information  \\\n",
       "138                           59                            17   \n",
       "\n",
       "     Register_update_requests_for_information  Total_requests_for_information  \n",
       "138                                        74                             150  "
      ]
     },
     "execution_count": 41,
     "metadata": {},
     "output_type": "execute_result"
    }
   ],
   "source": [
    "df.loc[df['TP_Intake']==746]"
   ]
  },
  {
   "cell_type": "code",
   "execution_count": 42,
   "metadata": {},
   "outputs": [
    {
     "data": {
      "text/html": [
       "<div>\n",
       "<style scoped>\n",
       "    .dataframe tbody tr th:only-of-type {\n",
       "        vertical-align: middle;\n",
       "    }\n",
       "\n",
       "    .dataframe tbody tr th {\n",
       "        vertical-align: top;\n",
       "    }\n",
       "\n",
       "    .dataframe thead th {\n",
       "        text-align: right;\n",
       "    }\n",
       "</style>\n",
       "<table border=\"1\" class=\"dataframe\">\n",
       "  <thead>\n",
       "    <tr style=\"text-align: right;\">\n",
       "      <th></th>\n",
       "      <th>Customer</th>\n",
       "      <th>FR_Intake</th>\n",
       "      <th>TP_Intake</th>\n",
       "      <th>DFL_Intake</th>\n",
       "      <th>Register_update_intake</th>\n",
       "      <th>Total_intake</th>\n",
       "      <th>FR_Output</th>\n",
       "      <th>TP_Output</th>\n",
       "      <th>DFL_Output</th>\n",
       "      <th>Register_update_output</th>\n",
       "      <th>Total_output</th>\n",
       "      <th>FR_requests_for_information</th>\n",
       "      <th>TP_requests_for_information</th>\n",
       "      <th>DFL_requests_for_information</th>\n",
       "      <th>Register_update_requests_for_information</th>\n",
       "      <th>Total_requests_for_information</th>\n",
       "    </tr>\n",
       "  </thead>\n",
       "  <tbody>\n",
       "    <tr>\n",
       "      <th>475</th>\n",
       "      <td>Watson Ramsbottom</td>\n",
       "      <td>12</td>\n",
       "      <td>92</td>\n",
       "      <td>538</td>\n",
       "      <td>486</td>\n",
       "      <td>1128</td>\n",
       "      <td>3</td>\n",
       "      <td>14</td>\n",
       "      <td>43</td>\n",
       "      <td>185</td>\n",
       "      <td>245</td>\n",
       "      <td>2</td>\n",
       "      <td>11</td>\n",
       "      <td>34</td>\n",
       "      <td>43</td>\n",
       "      <td>90</td>\n",
       "    </tr>\n",
       "  </tbody>\n",
       "</table>\n",
       "</div>"
      ],
      "text/plain": [
       "              Customer  FR_Intake  TP_Intake  DFL_Intake  \\\n",
       "475  Watson Ramsbottom         12         92         538   \n",
       "\n",
       "     Register_update_intake  Total_intake  FR_Output  TP_Output  DFL_Output  \\\n",
       "475                     486          1128          3         14          43   \n",
       "\n",
       "     Register_update_output  Total_output  FR_requests_for_information  \\\n",
       "475                     185           245                            2   \n",
       "\n",
       "     TP_requests_for_information  DFL_requests_for_information  \\\n",
       "475                           11                            34   \n",
       "\n",
       "     Register_update_requests_for_information  Total_requests_for_information  \n",
       "475                                        43                              90  "
      ]
     },
     "execution_count": 42,
     "metadata": {},
     "output_type": "execute_result"
    }
   ],
   "source": [
    "df.loc[df['DFL_Intake']==538]"
   ]
  },
  {
   "cell_type": "code",
   "execution_count": 43,
   "metadata": {},
   "outputs": [
    {
     "data": {
      "text/html": [
       "<div>\n",
       "<style scoped>\n",
       "    .dataframe tbody tr th:only-of-type {\n",
       "        vertical-align: middle;\n",
       "    }\n",
       "\n",
       "    .dataframe tbody tr th {\n",
       "        vertical-align: top;\n",
       "    }\n",
       "\n",
       "    .dataframe thead th {\n",
       "        text-align: right;\n",
       "    }\n",
       "</style>\n",
       "<table border=\"1\" class=\"dataframe\">\n",
       "  <thead>\n",
       "    <tr style=\"text-align: right;\">\n",
       "      <th></th>\n",
       "      <th>Customer</th>\n",
       "      <th>FR_Intake</th>\n",
       "      <th>TP_Intake</th>\n",
       "      <th>DFL_Intake</th>\n",
       "      <th>Register_update_intake</th>\n",
       "      <th>Total_intake</th>\n",
       "      <th>FR_Output</th>\n",
       "      <th>TP_Output</th>\n",
       "      <th>DFL_Output</th>\n",
       "      <th>Register_update_output</th>\n",
       "      <th>Total_output</th>\n",
       "      <th>FR_requests_for_information</th>\n",
       "      <th>TP_requests_for_information</th>\n",
       "      <th>DFL_requests_for_information</th>\n",
       "      <th>Register_update_requests_for_information</th>\n",
       "      <th>Total_requests_for_information</th>\n",
       "    </tr>\n",
       "  </thead>\n",
       "  <tbody>\n",
       "    <tr>\n",
       "      <th>220</th>\n",
       "      <td>HBOS PLC Bank</td>\n",
       "      <td>0</td>\n",
       "      <td>0</td>\n",
       "      <td>0</td>\n",
       "      <td>37113</td>\n",
       "      <td>37113</td>\n",
       "      <td>0</td>\n",
       "      <td>0</td>\n",
       "      <td>0</td>\n",
       "      <td>35099</td>\n",
       "      <td>35099</td>\n",
       "      <td>0</td>\n",
       "      <td>0</td>\n",
       "      <td>0</td>\n",
       "      <td>0</td>\n",
       "      <td>0</td>\n",
       "    </tr>\n",
       "  </tbody>\n",
       "</table>\n",
       "</div>"
      ],
      "text/plain": [
       "          Customer  FR_Intake  TP_Intake  DFL_Intake  Register_update_intake  \\\n",
       "220  HBOS PLC Bank          0          0           0                   37113   \n",
       "\n",
       "     Total_intake  FR_Output  TP_Output  DFL_Output  Register_update_output  \\\n",
       "220         37113          0          0           0                   35099   \n",
       "\n",
       "     Total_output  FR_requests_for_information  TP_requests_for_information  \\\n",
       "220         35099                            0                            0   \n",
       "\n",
       "     DFL_requests_for_information  Register_update_requests_for_information  \\\n",
       "220                             0                                         0   \n",
       "\n",
       "     Total_requests_for_information  \n",
       "220                               0  "
      ]
     },
     "execution_count": 43,
     "metadata": {},
     "output_type": "execute_result"
    }
   ],
   "source": [
    "df.loc[df['Register_update_intake']==37113]"
   ]
  },
  {
   "cell_type": "markdown",
   "metadata": {},
   "source": [
    "### Insight 5:\n",
    "Eversheds Sutherland has made highest applications in FR(142), completed(26). \n",
    "Completion Rate:18%\n",
    "\n",
    "Direction Home (law) LLP has made highest applications in TP(746),completed(110),\n",
    "Completion Rate:14%\n",
    "\n",
    "Watson Ramsbottom has made highest application in DFL(538) out of which only 43 are being completed which is a poor completion rate. \n",
    "Completion Rate: 7%\n",
    "\n",
    "HBOS PLC Bank has made highest applications in Register Updation(37113), completed(35099).\n",
    "Completion rate: 94.5%"
   ]
  },
  {
   "cell_type": "code",
   "execution_count": null,
   "metadata": {},
   "outputs": [],
   "source": []
  }
 ],
 "metadata": {
  "kernelspec": {
   "display_name": "Python 3",
   "language": "python",
   "name": "python3"
  },
  "language_info": {
   "codemirror_mode": {
    "name": "ipython",
    "version": 3
   },
   "file_extension": ".py",
   "mimetype": "text/x-python",
   "name": "python",
   "nbconvert_exporter": "python",
   "pygments_lexer": "ipython3",
   "version": "3.7.6"
  }
 },
 "nbformat": 4,
 "nbformat_minor": 4
}
