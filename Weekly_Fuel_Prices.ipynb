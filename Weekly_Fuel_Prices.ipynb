{
 "cells": [
  {
   "cell_type": "markdown",
   "metadata": {},
   "source": [
    "## EXPLORATORY DATA ANALYSIS: Weekly road fuel prices\n",
    "#### BEIS publishes road fuel price statistics providing average UK retail 'pump' prices on a weekly basis.\n",
    "##### Source: https://www.gov.uk/government/statistical-data-sets/oil-and-petroleum-products-weekly-statistics\n",
    "\n",
    "### About the data:\n",
    "\n",
    "ULSP = Pump in price in Ultra low sulpur unleaded petrol in pence/litre\t\n",
    "\n",
    "ULSD = Ultra low sulphur diesel in pence/litre\n",
    "\n",
    "ULSP.1= Petrol Duty rate in pence/litre\n",
    "\n",
    "ULSD.1= Diesel Duty rate in pence/litre\n",
    "\n",
    "ULSP.2= Petrol VAT percentage rate\n",
    "\n",
    "ULSD.2=\tDiesel VAT percentage rate\n",
    "\n",
    "All the values are in pence/litre."
   ]
  },
  {
   "cell_type": "code",
   "execution_count": 1,
   "metadata": {},
   "outputs": [],
   "source": [
    "import numpy as np\n",
    "import pandas as pd\n",
    "import matplotlib.pyplot as plt\n",
    "import seaborn as sns"
   ]
  },
  {
   "cell_type": "code",
   "execution_count": 2,
   "metadata": {},
   "outputs": [],
   "source": [
    "df = pd. read_csv('oilprices.csv')"
   ]
  },
  {
   "cell_type": "code",
   "execution_count": 3,
   "metadata": {},
   "outputs": [
    {
     "data": {
      "text/html": [
       "<div>\n",
       "<style scoped>\n",
       "    .dataframe tbody tr th:only-of-type {\n",
       "        vertical-align: middle;\n",
       "    }\n",
       "\n",
       "    .dataframe tbody tr th {\n",
       "        vertical-align: top;\n",
       "    }\n",
       "\n",
       "    .dataframe thead th {\n",
       "        text-align: right;\n",
       "    }\n",
       "</style>\n",
       "<table border=\"1\" class=\"dataframe\">\n",
       "  <thead>\n",
       "    <tr style=\"text-align: right;\">\n",
       "      <th></th>\n",
       "      <th>Date</th>\n",
       "      <th>ULSP</th>\n",
       "      <th>ULSD</th>\n",
       "      <th>ULSP.1</th>\n",
       "      <th>ULSD.1</th>\n",
       "      <th>ULSP.2</th>\n",
       "      <th>ULSD.2</th>\n",
       "    </tr>\n",
       "  </thead>\n",
       "  <tbody>\n",
       "    <tr>\n",
       "      <th>0</th>\n",
       "      <td>09-06-2003</td>\n",
       "      <td>74.59</td>\n",
       "      <td>76.77</td>\n",
       "      <td>45.82</td>\n",
       "      <td>45.82</td>\n",
       "      <td>17.5</td>\n",
       "      <td>17.5</td>\n",
       "    </tr>\n",
       "    <tr>\n",
       "      <th>1</th>\n",
       "      <td>16-06-2003</td>\n",
       "      <td>74.47</td>\n",
       "      <td>76.69</td>\n",
       "      <td>45.82</td>\n",
       "      <td>45.82</td>\n",
       "      <td>17.5</td>\n",
       "      <td>17.5</td>\n",
       "    </tr>\n",
       "    <tr>\n",
       "      <th>2</th>\n",
       "      <td>23-06-2003</td>\n",
       "      <td>74.42</td>\n",
       "      <td>76.62</td>\n",
       "      <td>45.82</td>\n",
       "      <td>45.82</td>\n",
       "      <td>17.5</td>\n",
       "      <td>17.5</td>\n",
       "    </tr>\n",
       "    <tr>\n",
       "      <th>3</th>\n",
       "      <td>30-06-2003</td>\n",
       "      <td>74.35</td>\n",
       "      <td>76.51</td>\n",
       "      <td>45.82</td>\n",
       "      <td>45.82</td>\n",
       "      <td>17.5</td>\n",
       "      <td>17.5</td>\n",
       "    </tr>\n",
       "    <tr>\n",
       "      <th>4</th>\n",
       "      <td>07-07-2003</td>\n",
       "      <td>74.28</td>\n",
       "      <td>76.46</td>\n",
       "      <td>45.82</td>\n",
       "      <td>45.82</td>\n",
       "      <td>17.5</td>\n",
       "      <td>17.5</td>\n",
       "    </tr>\n",
       "  </tbody>\n",
       "</table>\n",
       "</div>"
      ],
      "text/plain": [
       "         Date   ULSP   ULSD  ULSP.1  ULSD.1  ULSP.2  ULSD.2\n",
       "0  09-06-2003  74.59  76.77   45.82   45.82    17.5    17.5\n",
       "1  16-06-2003  74.47  76.69   45.82   45.82    17.5    17.5\n",
       "2  23-06-2003  74.42  76.62   45.82   45.82    17.5    17.5\n",
       "3  30-06-2003  74.35  76.51   45.82   45.82    17.5    17.5\n",
       "4  07-07-2003  74.28  76.46   45.82   45.82    17.5    17.5"
      ]
     },
     "execution_count": 3,
     "metadata": {},
     "output_type": "execute_result"
    }
   ],
   "source": [
    "df.head()"
   ]
  },
  {
   "cell_type": "code",
   "execution_count": 4,
   "metadata": {},
   "outputs": [
    {
     "data": {
      "text/plain": [
       "(902, 7)"
      ]
     },
     "execution_count": 4,
     "metadata": {},
     "output_type": "execute_result"
    }
   ],
   "source": [
    "df.shape"
   ]
  },
  {
   "cell_type": "code",
   "execution_count": 5,
   "metadata": {},
   "outputs": [
    {
     "data": {
      "text/html": [
       "<div>\n",
       "<style scoped>\n",
       "    .dataframe tbody tr th:only-of-type {\n",
       "        vertical-align: middle;\n",
       "    }\n",
       "\n",
       "    .dataframe tbody tr th {\n",
       "        vertical-align: top;\n",
       "    }\n",
       "\n",
       "    .dataframe thead th {\n",
       "        text-align: right;\n",
       "    }\n",
       "</style>\n",
       "<table border=\"1\" class=\"dataframe\">\n",
       "  <thead>\n",
       "    <tr style=\"text-align: right;\">\n",
       "      <th></th>\n",
       "      <th>Date</th>\n",
       "      <th>ULSP</th>\n",
       "      <th>ULSD</th>\n",
       "      <th>ULSP.1</th>\n",
       "      <th>ULSD.1</th>\n",
       "      <th>ULSP.2</th>\n",
       "      <th>ULSD.2</th>\n",
       "    </tr>\n",
       "  </thead>\n",
       "  <tbody>\n",
       "    <tr>\n",
       "      <th>897</th>\n",
       "      <td>17-08-2020</td>\n",
       "      <td>113.04</td>\n",
       "      <td>118.00</td>\n",
       "      <td>57.95</td>\n",
       "      <td>57.95</td>\n",
       "      <td>20.0</td>\n",
       "      <td>20.0</td>\n",
       "    </tr>\n",
       "    <tr>\n",
       "      <th>898</th>\n",
       "      <td>24-08-2020</td>\n",
       "      <td>113.22</td>\n",
       "      <td>118.14</td>\n",
       "      <td>57.95</td>\n",
       "      <td>57.95</td>\n",
       "      <td>20.0</td>\n",
       "      <td>20.0</td>\n",
       "    </tr>\n",
       "    <tr>\n",
       "      <th>899</th>\n",
       "      <td>31-08-2020</td>\n",
       "      <td>113.29</td>\n",
       "      <td>118.18</td>\n",
       "      <td>57.95</td>\n",
       "      <td>57.95</td>\n",
       "      <td>20.0</td>\n",
       "      <td>20.0</td>\n",
       "    </tr>\n",
       "    <tr>\n",
       "      <th>900</th>\n",
       "      <td>07-09-2020</td>\n",
       "      <td>113.37</td>\n",
       "      <td>118.22</td>\n",
       "      <td>57.95</td>\n",
       "      <td>57.95</td>\n",
       "      <td>20.0</td>\n",
       "      <td>20.0</td>\n",
       "    </tr>\n",
       "    <tr>\n",
       "      <th>901</th>\n",
       "      <td>14-09-2020</td>\n",
       "      <td>113.32</td>\n",
       "      <td>118.18</td>\n",
       "      <td>57.95</td>\n",
       "      <td>57.95</td>\n",
       "      <td>20.0</td>\n",
       "      <td>20.0</td>\n",
       "    </tr>\n",
       "  </tbody>\n",
       "</table>\n",
       "</div>"
      ],
      "text/plain": [
       "           Date    ULSP    ULSD  ULSP.1  ULSD.1  ULSP.2  ULSD.2\n",
       "897  17-08-2020  113.04  118.00   57.95   57.95    20.0    20.0\n",
       "898  24-08-2020  113.22  118.14   57.95   57.95    20.0    20.0\n",
       "899  31-08-2020  113.29  118.18   57.95   57.95    20.0    20.0\n",
       "900  07-09-2020  113.37  118.22   57.95   57.95    20.0    20.0\n",
       "901  14-09-2020  113.32  118.18   57.95   57.95    20.0    20.0"
      ]
     },
     "execution_count": 5,
     "metadata": {},
     "output_type": "execute_result"
    }
   ],
   "source": [
    "df.tail()"
   ]
  },
  {
   "cell_type": "code",
   "execution_count": 6,
   "metadata": {
    "scrolled": true
   },
   "outputs": [
    {
     "name": "stdout",
     "output_type": "stream",
     "text": [
      "<class 'pandas.core.frame.DataFrame'>\n",
      "RangeIndex: 902 entries, 0 to 901\n",
      "Data columns (total 7 columns):\n",
      " #   Column  Non-Null Count  Dtype  \n",
      "---  ------  --------------  -----  \n",
      " 0   Date    902 non-null    object \n",
      " 1   ULSP    902 non-null    float64\n",
      " 2   ULSD    902 non-null    float64\n",
      " 3   ULSP.1  902 non-null    float64\n",
      " 4   ULSD.1  902 non-null    float64\n",
      " 5   ULSP.2  902 non-null    float64\n",
      " 6   ULSD.2  902 non-null    float64\n",
      "dtypes: float64(6), object(1)\n",
      "memory usage: 49.5+ KB\n"
     ]
    }
   ],
   "source": [
    "df.info()"
   ]
  },
  {
   "cell_type": "markdown",
   "metadata": {},
   "source": [
    "There are no missing values in the data."
   ]
  },
  {
   "cell_type": "code",
   "execution_count": 7,
   "metadata": {},
   "outputs": [
    {
     "data": {
      "text/html": [
       "<div>\n",
       "<style scoped>\n",
       "    .dataframe tbody tr th:only-of-type {\n",
       "        vertical-align: middle;\n",
       "    }\n",
       "\n",
       "    .dataframe tbody tr th {\n",
       "        vertical-align: top;\n",
       "    }\n",
       "\n",
       "    .dataframe thead th {\n",
       "        text-align: right;\n",
       "    }\n",
       "</style>\n",
       "<table border=\"1\" class=\"dataframe\">\n",
       "  <thead>\n",
       "    <tr style=\"text-align: right;\">\n",
       "      <th></th>\n",
       "      <th>ULSP</th>\n",
       "      <th>ULSD</th>\n",
       "      <th>ULSP.1</th>\n",
       "      <th>ULSD.1</th>\n",
       "      <th>ULSP.2</th>\n",
       "      <th>ULSD.2</th>\n",
       "    </tr>\n",
       "  </thead>\n",
       "  <tbody>\n",
       "    <tr>\n",
       "      <th>count</th>\n",
       "      <td>902.000000</td>\n",
       "      <td>902.000000</td>\n",
       "      <td>902.000000</td>\n",
       "      <td>902.000000</td>\n",
       "      <td>902.000000</td>\n",
       "      <td>902.000000</td>\n",
       "    </tr>\n",
       "    <tr>\n",
       "      <th>mean</th>\n",
       "      <td>111.074113</td>\n",
       "      <td>115.612483</td>\n",
       "      <td>54.496486</td>\n",
       "      <td>54.496486</td>\n",
       "      <td>18.744457</td>\n",
       "      <td>18.744457</td>\n",
       "    </tr>\n",
       "    <tr>\n",
       "      <th>std</th>\n",
       "      <td>18.378126</td>\n",
       "      <td>19.488230</td>\n",
       "      <td>4.673063</td>\n",
       "      <td>4.673063</td>\n",
       "      <td>1.534598</td>\n",
       "      <td>1.534598</td>\n",
       "    </tr>\n",
       "    <tr>\n",
       "      <th>min</th>\n",
       "      <td>74.210000</td>\n",
       "      <td>76.410000</td>\n",
       "      <td>45.820000</td>\n",
       "      <td>45.820000</td>\n",
       "      <td>15.000000</td>\n",
       "      <td>15.000000</td>\n",
       "    </tr>\n",
       "    <tr>\n",
       "      <th>25%</th>\n",
       "      <td>95.622500</td>\n",
       "      <td>99.117500</td>\n",
       "      <td>50.350000</td>\n",
       "      <td>50.350000</td>\n",
       "      <td>17.500000</td>\n",
       "      <td>17.500000</td>\n",
       "    </tr>\n",
       "    <tr>\n",
       "      <th>50%</th>\n",
       "      <td>113.905000</td>\n",
       "      <td>118.125000</td>\n",
       "      <td>57.950000</td>\n",
       "      <td>57.950000</td>\n",
       "      <td>20.000000</td>\n",
       "      <td>20.000000</td>\n",
       "    </tr>\n",
       "    <tr>\n",
       "      <th>75%</th>\n",
       "      <td>127.640000</td>\n",
       "      <td>132.607500</td>\n",
       "      <td>57.950000</td>\n",
       "      <td>57.950000</td>\n",
       "      <td>20.000000</td>\n",
       "      <td>20.000000</td>\n",
       "    </tr>\n",
       "    <tr>\n",
       "      <th>max</th>\n",
       "      <td>142.170000</td>\n",
       "      <td>148.040000</td>\n",
       "      <td>58.950000</td>\n",
       "      <td>58.950000</td>\n",
       "      <td>20.000000</td>\n",
       "      <td>20.000000</td>\n",
       "    </tr>\n",
       "  </tbody>\n",
       "</table>\n",
       "</div>"
      ],
      "text/plain": [
       "             ULSP        ULSD      ULSP.1      ULSD.1      ULSP.2      ULSD.2\n",
       "count  902.000000  902.000000  902.000000  902.000000  902.000000  902.000000\n",
       "mean   111.074113  115.612483   54.496486   54.496486   18.744457   18.744457\n",
       "std     18.378126   19.488230    4.673063    4.673063    1.534598    1.534598\n",
       "min     74.210000   76.410000   45.820000   45.820000   15.000000   15.000000\n",
       "25%     95.622500   99.117500   50.350000   50.350000   17.500000   17.500000\n",
       "50%    113.905000  118.125000   57.950000   57.950000   20.000000   20.000000\n",
       "75%    127.640000  132.607500   57.950000   57.950000   20.000000   20.000000\n",
       "max    142.170000  148.040000   58.950000   58.950000   20.000000   20.000000"
      ]
     },
     "execution_count": 7,
     "metadata": {},
     "output_type": "execute_result"
    }
   ],
   "source": [
    "df.describe()"
   ]
  },
  {
   "cell_type": "markdown",
   "metadata": {},
   "source": [
    "### Average Values\n",
    "\n",
    "1. Average Pump in petrol=111\n",
    "2. Average Pump in diesel=115\n",
    "\n",
    "1. Average Duty for petrol=54.5\n",
    "2. Average Duty for Diesel=54.5\n",
    "\n",
    "1. Average VAT for petrol=18.7\n",
    "2. Average VAT for diesel=18.7\n",
    "\n",
    "All values are pence/litre"
   ]
  },
  {
   "cell_type": "markdown",
   "metadata": {},
   "source": [
    "## Crux of the data\n",
    " 1. This data has 902 rows and 7 columns. \n",
    " 2. This is weekly data of pump in oil prices from the year 2003 to 2020. \n",
    " 3. It starts from the date 09-06-2003 and ends on 14-09-2020\n",
    " 4. There are no missing values in the data. \n",
    " 5. The average increase in the price of petrol from 2003 to 2020 is 111 pence/litre and that in diesel is 115.6 pence/litre.\n",
    " 6. There is a difference of 2 between the 50th percentile and the mean which shows that outliers are present in the data. \n",
    " "
   ]
  },
  {
   "cell_type": "markdown",
   "metadata": {},
   "source": [
    "## Educational Insights: 1 \n",
    "The average increase in the price of petrol from 2003 to 2020 is 111 pence/litre and that in diesel is 115.6 pence/litre."
   ]
  },
  {
   "cell_type": "code",
   "execution_count": 8,
   "metadata": {},
   "outputs": [
    {
     "data": {
      "text/plain": [
       "Date      31-12-2018\n",
       "ULSP          142.17\n",
       "ULSD          148.04\n",
       "ULSP.1         58.95\n",
       "ULSD.1         58.95\n",
       "ULSP.2            20\n",
       "ULSD.2            20\n",
       "dtype: object"
      ]
     },
     "execution_count": 8,
     "metadata": {},
     "output_type": "execute_result"
    }
   ],
   "source": [
    "df.apply(np.max)"
   ]
  },
  {
   "cell_type": "code",
   "execution_count": 9,
   "metadata": {},
   "outputs": [
    {
     "data": {
      "text/html": [
       "<div>\n",
       "<style scoped>\n",
       "    .dataframe tbody tr th:only-of-type {\n",
       "        vertical-align: middle;\n",
       "    }\n",
       "\n",
       "    .dataframe tbody tr th {\n",
       "        vertical-align: top;\n",
       "    }\n",
       "\n",
       "    .dataframe thead th {\n",
       "        text-align: right;\n",
       "    }\n",
       "</style>\n",
       "<table border=\"1\" class=\"dataframe\">\n",
       "  <thead>\n",
       "    <tr style=\"text-align: right;\">\n",
       "      <th></th>\n",
       "      <th>Date</th>\n",
       "      <th>ULSP</th>\n",
       "      <th>ULSD</th>\n",
       "      <th>ULSP.1</th>\n",
       "      <th>ULSD.1</th>\n",
       "      <th>ULSP.2</th>\n",
       "      <th>ULSD.2</th>\n",
       "    </tr>\n",
       "  </thead>\n",
       "  <tbody>\n",
       "    <tr>\n",
       "      <th>462</th>\n",
       "      <td>16-04-2012</td>\n",
       "      <td>142.17</td>\n",
       "      <td>148.04</td>\n",
       "      <td>57.95</td>\n",
       "      <td>57.95</td>\n",
       "      <td>20.0</td>\n",
       "      <td>20.0</td>\n",
       "    </tr>\n",
       "  </tbody>\n",
       "</table>\n",
       "</div>"
      ],
      "text/plain": [
       "           Date    ULSP    ULSD  ULSP.1  ULSD.1  ULSP.2  ULSD.2\n",
       "462  16-04-2012  142.17  148.04   57.95   57.95    20.0    20.0"
      ]
     },
     "execution_count": 9,
     "metadata": {},
     "output_type": "execute_result"
    }
   ],
   "source": [
    "df.loc[df['ULSP'] == 142.17]"
   ]
  },
  {
   "cell_type": "code",
   "execution_count": 10,
   "metadata": {},
   "outputs": [
    {
     "data": {
      "text/html": [
       "<div>\n",
       "<style scoped>\n",
       "    .dataframe tbody tr th:only-of-type {\n",
       "        vertical-align: middle;\n",
       "    }\n",
       "\n",
       "    .dataframe tbody tr th {\n",
       "        vertical-align: top;\n",
       "    }\n",
       "\n",
       "    .dataframe thead th {\n",
       "        text-align: right;\n",
       "    }\n",
       "</style>\n",
       "<table border=\"1\" class=\"dataframe\">\n",
       "  <thead>\n",
       "    <tr style=\"text-align: right;\">\n",
       "      <th></th>\n",
       "      <th>Date</th>\n",
       "      <th>ULSP</th>\n",
       "      <th>ULSD</th>\n",
       "      <th>ULSP.1</th>\n",
       "      <th>ULSD.1</th>\n",
       "      <th>ULSP.2</th>\n",
       "      <th>ULSD.2</th>\n",
       "    </tr>\n",
       "  </thead>\n",
       "  <tbody>\n",
       "    <tr>\n",
       "      <th>395</th>\n",
       "      <td>03-01-2011</td>\n",
       "      <td>124.85</td>\n",
       "      <td>129.11</td>\n",
       "      <td>58.95</td>\n",
       "      <td>58.95</td>\n",
       "      <td>17.5</td>\n",
       "      <td>17.5</td>\n",
       "    </tr>\n",
       "    <tr>\n",
       "      <th>396</th>\n",
       "      <td>10-01-2011</td>\n",
       "      <td>127.40</td>\n",
       "      <td>131.60</td>\n",
       "      <td>58.95</td>\n",
       "      <td>58.95</td>\n",
       "      <td>20.0</td>\n",
       "      <td>20.0</td>\n",
       "    </tr>\n",
       "    <tr>\n",
       "      <th>397</th>\n",
       "      <td>17-01-2011</td>\n",
       "      <td>127.87</td>\n",
       "      <td>132.33</td>\n",
       "      <td>58.95</td>\n",
       "      <td>58.95</td>\n",
       "      <td>20.0</td>\n",
       "      <td>20.0</td>\n",
       "    </tr>\n",
       "    <tr>\n",
       "      <th>398</th>\n",
       "      <td>24-01-2011</td>\n",
       "      <td>128.35</td>\n",
       "      <td>133.00</td>\n",
       "      <td>58.95</td>\n",
       "      <td>58.95</td>\n",
       "      <td>20.0</td>\n",
       "      <td>20.0</td>\n",
       "    </tr>\n",
       "    <tr>\n",
       "      <th>399</th>\n",
       "      <td>31-01-2011</td>\n",
       "      <td>128.55</td>\n",
       "      <td>133.25</td>\n",
       "      <td>58.95</td>\n",
       "      <td>58.95</td>\n",
       "      <td>20.0</td>\n",
       "      <td>20.0</td>\n",
       "    </tr>\n",
       "    <tr>\n",
       "      <th>400</th>\n",
       "      <td>07-02-2011</td>\n",
       "      <td>128.64</td>\n",
       "      <td>133.47</td>\n",
       "      <td>58.95</td>\n",
       "      <td>58.95</td>\n",
       "      <td>20.0</td>\n",
       "      <td>20.0</td>\n",
       "    </tr>\n",
       "    <tr>\n",
       "      <th>401</th>\n",
       "      <td>14-02-2011</td>\n",
       "      <td>128.73</td>\n",
       "      <td>133.71</td>\n",
       "      <td>58.95</td>\n",
       "      <td>58.95</td>\n",
       "      <td>20.0</td>\n",
       "      <td>20.0</td>\n",
       "    </tr>\n",
       "    <tr>\n",
       "      <th>402</th>\n",
       "      <td>21-02-2011</td>\n",
       "      <td>128.92</td>\n",
       "      <td>134.04</td>\n",
       "      <td>58.95</td>\n",
       "      <td>58.95</td>\n",
       "      <td>20.0</td>\n",
       "      <td>20.0</td>\n",
       "    </tr>\n",
       "    <tr>\n",
       "      <th>403</th>\n",
       "      <td>28-02-2011</td>\n",
       "      <td>129.72</td>\n",
       "      <td>135.06</td>\n",
       "      <td>58.95</td>\n",
       "      <td>58.95</td>\n",
       "      <td>20.0</td>\n",
       "      <td>20.0</td>\n",
       "    </tr>\n",
       "    <tr>\n",
       "      <th>404</th>\n",
       "      <td>07-03-2011</td>\n",
       "      <td>131.28</td>\n",
       "      <td>136.90</td>\n",
       "      <td>58.95</td>\n",
       "      <td>58.95</td>\n",
       "      <td>20.0</td>\n",
       "      <td>20.0</td>\n",
       "    </tr>\n",
       "    <tr>\n",
       "      <th>405</th>\n",
       "      <td>14-03-2011</td>\n",
       "      <td>132.18</td>\n",
       "      <td>138.25</td>\n",
       "      <td>58.95</td>\n",
       "      <td>58.95</td>\n",
       "      <td>20.0</td>\n",
       "      <td>20.0</td>\n",
       "    </tr>\n",
       "    <tr>\n",
       "      <th>406</th>\n",
       "      <td>21-03-2011</td>\n",
       "      <td>133.11</td>\n",
       "      <td>139.53</td>\n",
       "      <td>58.95</td>\n",
       "      <td>58.95</td>\n",
       "      <td>20.0</td>\n",
       "      <td>20.0</td>\n",
       "    </tr>\n",
       "  </tbody>\n",
       "</table>\n",
       "</div>"
      ],
      "text/plain": [
       "           Date    ULSP    ULSD  ULSP.1  ULSD.1  ULSP.2  ULSD.2\n",
       "395  03-01-2011  124.85  129.11   58.95   58.95    17.5    17.5\n",
       "396  10-01-2011  127.40  131.60   58.95   58.95    20.0    20.0\n",
       "397  17-01-2011  127.87  132.33   58.95   58.95    20.0    20.0\n",
       "398  24-01-2011  128.35  133.00   58.95   58.95    20.0    20.0\n",
       "399  31-01-2011  128.55  133.25   58.95   58.95    20.0    20.0\n",
       "400  07-02-2011  128.64  133.47   58.95   58.95    20.0    20.0\n",
       "401  14-02-2011  128.73  133.71   58.95   58.95    20.0    20.0\n",
       "402  21-02-2011  128.92  134.04   58.95   58.95    20.0    20.0\n",
       "403  28-02-2011  129.72  135.06   58.95   58.95    20.0    20.0\n",
       "404  07-03-2011  131.28  136.90   58.95   58.95    20.0    20.0\n",
       "405  14-03-2011  132.18  138.25   58.95   58.95    20.0    20.0\n",
       "406  21-03-2011  133.11  139.53   58.95   58.95    20.0    20.0"
      ]
     },
     "execution_count": 10,
     "metadata": {},
     "output_type": "execute_result"
    }
   ],
   "source": [
    "df.loc[df['ULSP.1'] == 58.95]"
   ]
  },
  {
   "cell_type": "markdown",
   "metadata": {},
   "source": [
    "## Insight 2:\n",
    "1. Maximum pump in petrol prices was 142.17 on 16th April 2012.\n",
    "2. Maximum pump in diesel prices was 148.04 on 16th April 2012.\n",
    "3. The duty on petrol and diesel prices had been the highest from the period of 3 November, 2011 till 21st March, 2011."
   ]
  },
  {
   "cell_type": "code",
   "execution_count": 11,
   "metadata": {},
   "outputs": [
    {
     "data": {
      "text/plain": [
       "Date      01-01-2007\n",
       "ULSP           74.21\n",
       "ULSD           76.41\n",
       "ULSP.1         45.82\n",
       "ULSD.1         45.82\n",
       "ULSP.2            15\n",
       "ULSD.2            15\n",
       "dtype: object"
      ]
     },
     "execution_count": 11,
     "metadata": {},
     "output_type": "execute_result"
    }
   ],
   "source": [
    "df.apply(np.min)"
   ]
  },
  {
   "cell_type": "code",
   "execution_count": 12,
   "metadata": {
    "scrolled": true
   },
   "outputs": [
    {
     "data": {
      "text/html": [
       "<div>\n",
       "<style scoped>\n",
       "    .dataframe tbody tr th:only-of-type {\n",
       "        vertical-align: middle;\n",
       "    }\n",
       "\n",
       "    .dataframe tbody tr th {\n",
       "        vertical-align: top;\n",
       "    }\n",
       "\n",
       "    .dataframe thead th {\n",
       "        text-align: right;\n",
       "    }\n",
       "</style>\n",
       "<table border=\"1\" class=\"dataframe\">\n",
       "  <thead>\n",
       "    <tr style=\"text-align: right;\">\n",
       "      <th></th>\n",
       "      <th>Date</th>\n",
       "      <th>ULSP</th>\n",
       "      <th>ULSD</th>\n",
       "      <th>ULSP.1</th>\n",
       "      <th>ULSD.1</th>\n",
       "      <th>ULSP.2</th>\n",
       "      <th>ULSD.2</th>\n",
       "    </tr>\n",
       "  </thead>\n",
       "  <tbody>\n",
       "    <tr>\n",
       "      <th>5</th>\n",
       "      <td>14-07-2003</td>\n",
       "      <td>74.21</td>\n",
       "      <td>76.41</td>\n",
       "      <td>45.82</td>\n",
       "      <td>45.82</td>\n",
       "      <td>17.5</td>\n",
       "      <td>17.5</td>\n",
       "    </tr>\n",
       "  </tbody>\n",
       "</table>\n",
       "</div>"
      ],
      "text/plain": [
       "         Date   ULSP   ULSD  ULSP.1  ULSD.1  ULSP.2  ULSD.2\n",
       "5  14-07-2003  74.21  76.41   45.82   45.82    17.5    17.5"
      ]
     },
     "execution_count": 12,
     "metadata": {},
     "output_type": "execute_result"
    }
   ],
   "source": [
    "df.loc[df['ULSP']==74.21]"
   ]
  },
  {
   "cell_type": "code",
   "execution_count": 13,
   "metadata": {},
   "outputs": [
    {
     "data": {
      "text/html": [
       "<div>\n",
       "<style scoped>\n",
       "    .dataframe tbody tr th:only-of-type {\n",
       "        vertical-align: middle;\n",
       "    }\n",
       "\n",
       "    .dataframe tbody tr th {\n",
       "        vertical-align: top;\n",
       "    }\n",
       "\n",
       "    .dataframe thead th {\n",
       "        text-align: right;\n",
       "    }\n",
       "</style>\n",
       "<table border=\"1\" class=\"dataframe\">\n",
       "  <thead>\n",
       "    <tr style=\"text-align: right;\">\n",
       "      <th></th>\n",
       "      <th>Date</th>\n",
       "      <th>ULSP</th>\n",
       "      <th>ULSD</th>\n",
       "      <th>ULSP.1</th>\n",
       "      <th>ULSD.1</th>\n",
       "      <th>ULSP.2</th>\n",
       "      <th>ULSD.2</th>\n",
       "    </tr>\n",
       "  </thead>\n",
       "  <tbody>\n",
       "    <tr>\n",
       "      <th>0</th>\n",
       "      <td>09-06-2003</td>\n",
       "      <td>74.59</td>\n",
       "      <td>76.77</td>\n",
       "      <td>45.82</td>\n",
       "      <td>45.82</td>\n",
       "      <td>17.5</td>\n",
       "      <td>17.5</td>\n",
       "    </tr>\n",
       "    <tr>\n",
       "      <th>1</th>\n",
       "      <td>16-06-2003</td>\n",
       "      <td>74.47</td>\n",
       "      <td>76.69</td>\n",
       "      <td>45.82</td>\n",
       "      <td>45.82</td>\n",
       "      <td>17.5</td>\n",
       "      <td>17.5</td>\n",
       "    </tr>\n",
       "    <tr>\n",
       "      <th>2</th>\n",
       "      <td>23-06-2003</td>\n",
       "      <td>74.42</td>\n",
       "      <td>76.62</td>\n",
       "      <td>45.82</td>\n",
       "      <td>45.82</td>\n",
       "      <td>17.5</td>\n",
       "      <td>17.5</td>\n",
       "    </tr>\n",
       "    <tr>\n",
       "      <th>3</th>\n",
       "      <td>30-06-2003</td>\n",
       "      <td>74.35</td>\n",
       "      <td>76.51</td>\n",
       "      <td>45.82</td>\n",
       "      <td>45.82</td>\n",
       "      <td>17.5</td>\n",
       "      <td>17.5</td>\n",
       "    </tr>\n",
       "    <tr>\n",
       "      <th>4</th>\n",
       "      <td>07-07-2003</td>\n",
       "      <td>74.28</td>\n",
       "      <td>76.46</td>\n",
       "      <td>45.82</td>\n",
       "      <td>45.82</td>\n",
       "      <td>17.5</td>\n",
       "      <td>17.5</td>\n",
       "    </tr>\n",
       "    <tr>\n",
       "      <th>5</th>\n",
       "      <td>14-07-2003</td>\n",
       "      <td>74.21</td>\n",
       "      <td>76.41</td>\n",
       "      <td>45.82</td>\n",
       "      <td>45.82</td>\n",
       "      <td>17.5</td>\n",
       "      <td>17.5</td>\n",
       "    </tr>\n",
       "    <tr>\n",
       "      <th>6</th>\n",
       "      <td>21-07-2003</td>\n",
       "      <td>75.07</td>\n",
       "      <td>76.90</td>\n",
       "      <td>45.82</td>\n",
       "      <td>45.82</td>\n",
       "      <td>17.5</td>\n",
       "      <td>17.5</td>\n",
       "    </tr>\n",
       "    <tr>\n",
       "      <th>7</th>\n",
       "      <td>28-07-2003</td>\n",
       "      <td>75.10</td>\n",
       "      <td>76.86</td>\n",
       "      <td>45.82</td>\n",
       "      <td>45.82</td>\n",
       "      <td>17.5</td>\n",
       "      <td>17.5</td>\n",
       "    </tr>\n",
       "    <tr>\n",
       "      <th>8</th>\n",
       "      <td>04-08-2003</td>\n",
       "      <td>75.12</td>\n",
       "      <td>76.81</td>\n",
       "      <td>45.82</td>\n",
       "      <td>45.82</td>\n",
       "      <td>17.5</td>\n",
       "      <td>17.5</td>\n",
       "    </tr>\n",
       "    <tr>\n",
       "      <th>9</th>\n",
       "      <td>11-08-2003</td>\n",
       "      <td>75.44</td>\n",
       "      <td>77.08</td>\n",
       "      <td>45.82</td>\n",
       "      <td>45.82</td>\n",
       "      <td>17.5</td>\n",
       "      <td>17.5</td>\n",
       "    </tr>\n",
       "    <tr>\n",
       "      <th>10</th>\n",
       "      <td>18-08-2003</td>\n",
       "      <td>75.81</td>\n",
       "      <td>77.44</td>\n",
       "      <td>45.82</td>\n",
       "      <td>45.82</td>\n",
       "      <td>17.5</td>\n",
       "      <td>17.5</td>\n",
       "    </tr>\n",
       "    <tr>\n",
       "      <th>11</th>\n",
       "      <td>26-08-2003</td>\n",
       "      <td>76.05</td>\n",
       "      <td>77.68</td>\n",
       "      <td>45.82</td>\n",
       "      <td>45.82</td>\n",
       "      <td>17.5</td>\n",
       "      <td>17.5</td>\n",
       "    </tr>\n",
       "    <tr>\n",
       "      <th>12</th>\n",
       "      <td>01-09-2003</td>\n",
       "      <td>76.13</td>\n",
       "      <td>77.59</td>\n",
       "      <td>45.82</td>\n",
       "      <td>45.82</td>\n",
       "      <td>17.5</td>\n",
       "      <td>17.5</td>\n",
       "    </tr>\n",
       "    <tr>\n",
       "      <th>13</th>\n",
       "      <td>08-09-2003</td>\n",
       "      <td>76.23</td>\n",
       "      <td>77.67</td>\n",
       "      <td>45.82</td>\n",
       "      <td>45.82</td>\n",
       "      <td>17.5</td>\n",
       "      <td>17.5</td>\n",
       "    </tr>\n",
       "    <tr>\n",
       "      <th>14</th>\n",
       "      <td>15-09-2003</td>\n",
       "      <td>76.20</td>\n",
       "      <td>77.63</td>\n",
       "      <td>45.82</td>\n",
       "      <td>45.82</td>\n",
       "      <td>17.5</td>\n",
       "      <td>17.5</td>\n",
       "    </tr>\n",
       "    <tr>\n",
       "      <th>15</th>\n",
       "      <td>22-09-2003</td>\n",
       "      <td>76.15</td>\n",
       "      <td>77.55</td>\n",
       "      <td>45.82</td>\n",
       "      <td>45.82</td>\n",
       "      <td>17.5</td>\n",
       "      <td>17.5</td>\n",
       "    </tr>\n",
       "    <tr>\n",
       "      <th>16</th>\n",
       "      <td>29-09-2003</td>\n",
       "      <td>76.08</td>\n",
       "      <td>77.53</td>\n",
       "      <td>45.82</td>\n",
       "      <td>45.82</td>\n",
       "      <td>17.5</td>\n",
       "      <td>17.5</td>\n",
       "    </tr>\n",
       "  </tbody>\n",
       "</table>\n",
       "</div>"
      ],
      "text/plain": [
       "          Date   ULSP   ULSD  ULSP.1  ULSD.1  ULSP.2  ULSD.2\n",
       "0   09-06-2003  74.59  76.77   45.82   45.82    17.5    17.5\n",
       "1   16-06-2003  74.47  76.69   45.82   45.82    17.5    17.5\n",
       "2   23-06-2003  74.42  76.62   45.82   45.82    17.5    17.5\n",
       "3   30-06-2003  74.35  76.51   45.82   45.82    17.5    17.5\n",
       "4   07-07-2003  74.28  76.46   45.82   45.82    17.5    17.5\n",
       "5   14-07-2003  74.21  76.41   45.82   45.82    17.5    17.5\n",
       "6   21-07-2003  75.07  76.90   45.82   45.82    17.5    17.5\n",
       "7   28-07-2003  75.10  76.86   45.82   45.82    17.5    17.5\n",
       "8   04-08-2003  75.12  76.81   45.82   45.82    17.5    17.5\n",
       "9   11-08-2003  75.44  77.08   45.82   45.82    17.5    17.5\n",
       "10  18-08-2003  75.81  77.44   45.82   45.82    17.5    17.5\n",
       "11  26-08-2003  76.05  77.68   45.82   45.82    17.5    17.5\n",
       "12  01-09-2003  76.13  77.59   45.82   45.82    17.5    17.5\n",
       "13  08-09-2003  76.23  77.67   45.82   45.82    17.5    17.5\n",
       "14  15-09-2003  76.20  77.63   45.82   45.82    17.5    17.5\n",
       "15  22-09-2003  76.15  77.55   45.82   45.82    17.5    17.5\n",
       "16  29-09-2003  76.08  77.53   45.82   45.82    17.5    17.5"
      ]
     },
     "execution_count": 13,
     "metadata": {},
     "output_type": "execute_result"
    }
   ],
   "source": [
    "df.loc[df['ULSP.1'] == 45.82]"
   ]
  },
  {
   "cell_type": "markdown",
   "metadata": {},
   "source": [
    "1. Minimum pump in petrol prices was 74.21 on 14th July 2003.\n",
    "2. Minimum pump in diesel prices was 76.41 on 14th July 2003.\n",
    "3. The duty on petrol and diesel prices had been the lowest from the period of 9 June, 2003 till 29th September, 2003."
   ]
  },
  {
   "cell_type": "markdown",
   "metadata": {},
   "source": [
    "# Considering the data from 2018 to 2020"
   ]
  },
  {
   "cell_type": "code",
   "execution_count": 14,
   "metadata": {},
   "outputs": [],
   "source": [
    "df['Date']=pd.to_datetime(df['Date'])"
   ]
  },
  {
   "cell_type": "code",
   "execution_count": 15,
   "metadata": {},
   "outputs": [
    {
     "name": "stdout",
     "output_type": "stream",
     "text": [
      "<class 'pandas.core.frame.DataFrame'>\n",
      "RangeIndex: 902 entries, 0 to 901\n",
      "Data columns (total 7 columns):\n",
      " #   Column  Non-Null Count  Dtype         \n",
      "---  ------  --------------  -----         \n",
      " 0   Date    902 non-null    datetime64[ns]\n",
      " 1   ULSP    902 non-null    float64       \n",
      " 2   ULSD    902 non-null    float64       \n",
      " 3   ULSP.1  902 non-null    float64       \n",
      " 4   ULSD.1  902 non-null    float64       \n",
      " 5   ULSP.2  902 non-null    float64       \n",
      " 6   ULSD.2  902 non-null    float64       \n",
      "dtypes: datetime64[ns](1), float64(6)\n",
      "memory usage: 49.5 KB\n"
     ]
    }
   ],
   "source": [
    "df.info()"
   ]
  },
  {
   "cell_type": "code",
   "execution_count": 16,
   "metadata": {},
   "outputs": [],
   "source": [
    "new_df=df[df['Date']>='01-01-2018']"
   ]
  },
  {
   "cell_type": "code",
   "execution_count": 17,
   "metadata": {},
   "outputs": [
    {
     "data": {
      "text/html": [
       "<div>\n",
       "<style scoped>\n",
       "    .dataframe tbody tr th:only-of-type {\n",
       "        vertical-align: middle;\n",
       "    }\n",
       "\n",
       "    .dataframe tbody tr th {\n",
       "        vertical-align: top;\n",
       "    }\n",
       "\n",
       "    .dataframe thead th {\n",
       "        text-align: right;\n",
       "    }\n",
       "</style>\n",
       "<table border=\"1\" class=\"dataframe\">\n",
       "  <thead>\n",
       "    <tr style=\"text-align: right;\">\n",
       "      <th></th>\n",
       "      <th>Date</th>\n",
       "      <th>ULSP</th>\n",
       "      <th>ULSD</th>\n",
       "      <th>ULSP.1</th>\n",
       "      <th>ULSD.1</th>\n",
       "      <th>ULSP.2</th>\n",
       "      <th>ULSD.2</th>\n",
       "    </tr>\n",
       "  </thead>\n",
       "  <tbody>\n",
       "    <tr>\n",
       "      <th>760</th>\n",
       "      <td>2018-01-01</td>\n",
       "      <td>120.19</td>\n",
       "      <td>123.51</td>\n",
       "      <td>57.95</td>\n",
       "      <td>57.95</td>\n",
       "      <td>20.0</td>\n",
       "      <td>20.0</td>\n",
       "    </tr>\n",
       "    <tr>\n",
       "      <th>761</th>\n",
       "      <td>2018-08-01</td>\n",
       "      <td>120.52</td>\n",
       "      <td>123.97</td>\n",
       "      <td>57.95</td>\n",
       "      <td>57.95</td>\n",
       "      <td>20.0</td>\n",
       "      <td>20.0</td>\n",
       "    </tr>\n",
       "    <tr>\n",
       "      <th>762</th>\n",
       "      <td>2018-01-15</td>\n",
       "      <td>120.96</td>\n",
       "      <td>124.58</td>\n",
       "      <td>57.95</td>\n",
       "      <td>57.95</td>\n",
       "      <td>20.0</td>\n",
       "      <td>20.0</td>\n",
       "    </tr>\n",
       "    <tr>\n",
       "      <th>763</th>\n",
       "      <td>2018-01-22</td>\n",
       "      <td>121.50</td>\n",
       "      <td>125.07</td>\n",
       "      <td>57.95</td>\n",
       "      <td>57.95</td>\n",
       "      <td>20.0</td>\n",
       "      <td>20.0</td>\n",
       "    </tr>\n",
       "    <tr>\n",
       "      <th>764</th>\n",
       "      <td>2018-01-29</td>\n",
       "      <td>121.69</td>\n",
       "      <td>125.32</td>\n",
       "      <td>57.95</td>\n",
       "      <td>57.95</td>\n",
       "      <td>20.0</td>\n",
       "      <td>20.0</td>\n",
       "    </tr>\n",
       "  </tbody>\n",
       "</table>\n",
       "</div>"
      ],
      "text/plain": [
       "          Date    ULSP    ULSD  ULSP.1  ULSD.1  ULSP.2  ULSD.2\n",
       "760 2018-01-01  120.19  123.51   57.95   57.95    20.0    20.0\n",
       "761 2018-08-01  120.52  123.97   57.95   57.95    20.0    20.0\n",
       "762 2018-01-15  120.96  124.58   57.95   57.95    20.0    20.0\n",
       "763 2018-01-22  121.50  125.07   57.95   57.95    20.0    20.0\n",
       "764 2018-01-29  121.69  125.32   57.95   57.95    20.0    20.0"
      ]
     },
     "execution_count": 17,
     "metadata": {},
     "output_type": "execute_result"
    }
   ],
   "source": [
    "new_df.head()"
   ]
  },
  {
   "cell_type": "code",
   "execution_count": 18,
   "metadata": {
    "scrolled": true
   },
   "outputs": [
    {
     "data": {
      "text/plain": [
       "(142, 7)"
      ]
     },
     "execution_count": 18,
     "metadata": {},
     "output_type": "execute_result"
    }
   ],
   "source": [
    "new_df.shape"
   ]
  },
  {
   "cell_type": "code",
   "execution_count": 19,
   "metadata": {},
   "outputs": [
    {
     "data": {
      "text/html": [
       "<div>\n",
       "<style scoped>\n",
       "    .dataframe tbody tr th:only-of-type {\n",
       "        vertical-align: middle;\n",
       "    }\n",
       "\n",
       "    .dataframe tbody tr th {\n",
       "        vertical-align: top;\n",
       "    }\n",
       "\n",
       "    .dataframe thead th {\n",
       "        text-align: right;\n",
       "    }\n",
       "</style>\n",
       "<table border=\"1\" class=\"dataframe\">\n",
       "  <thead>\n",
       "    <tr style=\"text-align: right;\">\n",
       "      <th></th>\n",
       "      <th>Date</th>\n",
       "      <th>ULSP</th>\n",
       "      <th>ULSD</th>\n",
       "      <th>ULSP.1</th>\n",
       "      <th>ULSD.1</th>\n",
       "      <th>ULSP.2</th>\n",
       "      <th>ULSD.2</th>\n",
       "    </tr>\n",
       "  </thead>\n",
       "  <tbody>\n",
       "    <tr>\n",
       "      <th>760</th>\n",
       "      <td>2018-01-01</td>\n",
       "      <td>120.19</td>\n",
       "      <td>123.51</td>\n",
       "      <td>57.95</td>\n",
       "      <td>57.95</td>\n",
       "      <td>20.0</td>\n",
       "      <td>20.0</td>\n",
       "    </tr>\n",
       "    <tr>\n",
       "      <th>799</th>\n",
       "      <td>2018-01-10</td>\n",
       "      <td>129.98</td>\n",
       "      <td>134.86</td>\n",
       "      <td>57.95</td>\n",
       "      <td>57.95</td>\n",
       "      <td>20.0</td>\n",
       "      <td>20.0</td>\n",
       "    </tr>\n",
       "    <tr>\n",
       "      <th>762</th>\n",
       "      <td>2018-01-15</td>\n",
       "      <td>120.96</td>\n",
       "      <td>124.58</td>\n",
       "      <td>57.95</td>\n",
       "      <td>57.95</td>\n",
       "      <td>20.0</td>\n",
       "      <td>20.0</td>\n",
       "    </tr>\n",
       "    <tr>\n",
       "      <th>763</th>\n",
       "      <td>2018-01-22</td>\n",
       "      <td>121.50</td>\n",
       "      <td>125.07</td>\n",
       "      <td>57.95</td>\n",
       "      <td>57.95</td>\n",
       "      <td>20.0</td>\n",
       "      <td>20.0</td>\n",
       "    </tr>\n",
       "    <tr>\n",
       "      <th>764</th>\n",
       "      <td>2018-01-29</td>\n",
       "      <td>121.69</td>\n",
       "      <td>125.32</td>\n",
       "      <td>57.95</td>\n",
       "      <td>57.95</td>\n",
       "      <td>20.0</td>\n",
       "      <td>20.0</td>\n",
       "    </tr>\n",
       "    <tr>\n",
       "      <th>...</th>\n",
       "      <td>...</td>\n",
       "      <td>...</td>\n",
       "      <td>...</td>\n",
       "      <td>...</td>\n",
       "      <td>...</td>\n",
       "      <td>...</td>\n",
       "      <td>...</td>\n",
       "    </tr>\n",
       "    <tr>\n",
       "      <th>874</th>\n",
       "      <td>2020-09-03</td>\n",
       "      <td>122.24</td>\n",
       "      <td>126.25</td>\n",
       "      <td>57.95</td>\n",
       "      <td>57.95</td>\n",
       "      <td>20.0</td>\n",
       "      <td>20.0</td>\n",
       "    </tr>\n",
       "    <tr>\n",
       "      <th>901</th>\n",
       "      <td>2020-09-14</td>\n",
       "      <td>113.32</td>\n",
       "      <td>118.18</td>\n",
       "      <td>57.95</td>\n",
       "      <td>57.95</td>\n",
       "      <td>20.0</td>\n",
       "      <td>20.0</td>\n",
       "    </tr>\n",
       "    <tr>\n",
       "      <th>870</th>\n",
       "      <td>2020-10-02</td>\n",
       "      <td>124.73</td>\n",
       "      <td>129.70</td>\n",
       "      <td>57.95</td>\n",
       "      <td>57.95</td>\n",
       "      <td>20.0</td>\n",
       "      <td>20.0</td>\n",
       "    </tr>\n",
       "    <tr>\n",
       "      <th>896</th>\n",
       "      <td>2020-10-08</td>\n",
       "      <td>113.02</td>\n",
       "      <td>118.01</td>\n",
       "      <td>57.95</td>\n",
       "      <td>57.95</td>\n",
       "      <td>20.0</td>\n",
       "      <td>20.0</td>\n",
       "    </tr>\n",
       "    <tr>\n",
       "      <th>883</th>\n",
       "      <td>2020-11-05</td>\n",
       "      <td>107.45</td>\n",
       "      <td>114.83</td>\n",
       "      <td>57.95</td>\n",
       "      <td>57.95</td>\n",
       "      <td>20.0</td>\n",
       "      <td>20.0</td>\n",
       "    </tr>\n",
       "  </tbody>\n",
       "</table>\n",
       "<p>142 rows × 7 columns</p>\n",
       "</div>"
      ],
      "text/plain": [
       "          Date    ULSP    ULSD  ULSP.1  ULSD.1  ULSP.2  ULSD.2\n",
       "760 2018-01-01  120.19  123.51   57.95   57.95    20.0    20.0\n",
       "799 2018-01-10  129.98  134.86   57.95   57.95    20.0    20.0\n",
       "762 2018-01-15  120.96  124.58   57.95   57.95    20.0    20.0\n",
       "763 2018-01-22  121.50  125.07   57.95   57.95    20.0    20.0\n",
       "764 2018-01-29  121.69  125.32   57.95   57.95    20.0    20.0\n",
       "..         ...     ...     ...     ...     ...     ...     ...\n",
       "874 2020-09-03  122.24  126.25   57.95   57.95    20.0    20.0\n",
       "901 2020-09-14  113.32  118.18   57.95   57.95    20.0    20.0\n",
       "870 2020-10-02  124.73  129.70   57.95   57.95    20.0    20.0\n",
       "896 2020-10-08  113.02  118.01   57.95   57.95    20.0    20.0\n",
       "883 2020-11-05  107.45  114.83   57.95   57.95    20.0    20.0\n",
       "\n",
       "[142 rows x 7 columns]"
      ]
     },
     "execution_count": 19,
     "metadata": {},
     "output_type": "execute_result"
    }
   ],
   "source": [
    "new_df.sort_values(by=['Date'])"
   ]
  },
  {
   "cell_type": "markdown",
   "metadata": {},
   "source": [
    "There are 142 values from 1 January 2018 till 14 September 2020."
   ]
  },
  {
   "cell_type": "code",
   "execution_count": 20,
   "metadata": {},
   "outputs": [
    {
     "data": {
      "image/png": "[encoded data removed]",
      "text/plain": [
       "<Figure size 432x288 with 1 Axes>"
      ]
     },
     "metadata": {
      "needs_background": "light"
     },
     "output_type": "display_data"
    }
   ],
   "source": [
    "x = df['Date']\n",
    "\n",
    "y = df['ULSP']\n",
    "\n",
    "plt.plot(x, y)\n",
    "\n",
    "plt.show()"
   ]
  },
  {
   "cell_type": "code",
   "execution_count": 21,
   "metadata": {},
   "outputs": [
    {
     "data": {
      "image/png": "[encoded data removed]",
      "text/plain": [
       "<Figure size 432x288 with 1 Axes>"
      ]
     },
     "metadata": {
      "needs_background": "light"
     },
     "output_type": "display_data"
    }
   ],
   "source": [
    "plt.boxplot(df['ULSP'])\n",
    "plt.show()"
   ]
  },
  {
   "cell_type": "code",
   "execution_count": 25,
   "metadata": {},
   "outputs": [
    {
     "data": {
      "image/png": "[encoded data removed]",
      "text/plain": [
       "<Figure size 432x288 with 1 Axes>"
      ]
     },
     "metadata": {
      "needs_background": "light"
     },
     "output_type": "display_data"
    }
   ],
   "source": [
    "plt.boxplot(df['ULSD'])\n",
    "plt.show()"
   ]
  },
  {
   "cell_type": "code",
   "execution_count": 32,
   "metadata": {},
   "outputs": [
    {
     "data": {
      "text/html": [
       "<div>\n",
       "<style scoped>\n",
       "    .dataframe tbody tr th:only-of-type {\n",
       "        vertical-align: middle;\n",
       "    }\n",
       "\n",
       "    .dataframe tbody tr th {\n",
       "        vertical-align: top;\n",
       "    }\n",
       "\n",
       "    .dataframe thead th {\n",
       "        text-align: right;\n",
       "    }\n",
       "</style>\n",
       "<table border=\"1\" class=\"dataframe\">\n",
       "  <thead>\n",
       "    <tr style=\"text-align: right;\">\n",
       "      <th></th>\n",
       "      <th>Date</th>\n",
       "      <th>ULSP</th>\n",
       "      <th>ULSD</th>\n",
       "      <th>ULSP.1</th>\n",
       "      <th>ULSD.1</th>\n",
       "      <th>ULSP.2</th>\n",
       "      <th>ULSD.2</th>\n",
       "      <th>Year</th>\n",
       "    </tr>\n",
       "  </thead>\n",
       "  <tbody>\n",
       "    <tr>\n",
       "      <th>760</th>\n",
       "      <td>2018-01-01</td>\n",
       "      <td>120.19</td>\n",
       "      <td>123.51</td>\n",
       "      <td>57.95</td>\n",
       "      <td>57.95</td>\n",
       "      <td>20.0</td>\n",
       "      <td>20.0</td>\n",
       "      <td>2018</td>\n",
       "    </tr>\n",
       "    <tr>\n",
       "      <th>761</th>\n",
       "      <td>2018-08-01</td>\n",
       "      <td>120.52</td>\n",
       "      <td>123.97</td>\n",
       "      <td>57.95</td>\n",
       "      <td>57.95</td>\n",
       "      <td>20.0</td>\n",
       "      <td>20.0</td>\n",
       "      <td>2018</td>\n",
       "    </tr>\n",
       "    <tr>\n",
       "      <th>762</th>\n",
       "      <td>2018-01-15</td>\n",
       "      <td>120.96</td>\n",
       "      <td>124.58</td>\n",
       "      <td>57.95</td>\n",
       "      <td>57.95</td>\n",
       "      <td>20.0</td>\n",
       "      <td>20.0</td>\n",
       "      <td>2018</td>\n",
       "    </tr>\n",
       "    <tr>\n",
       "      <th>763</th>\n",
       "      <td>2018-01-22</td>\n",
       "      <td>121.50</td>\n",
       "      <td>125.07</td>\n",
       "      <td>57.95</td>\n",
       "      <td>57.95</td>\n",
       "      <td>20.0</td>\n",
       "      <td>20.0</td>\n",
       "      <td>2018</td>\n",
       "    </tr>\n",
       "    <tr>\n",
       "      <th>764</th>\n",
       "      <td>2018-01-29</td>\n",
       "      <td>121.69</td>\n",
       "      <td>125.32</td>\n",
       "      <td>57.95</td>\n",
       "      <td>57.95</td>\n",
       "      <td>20.0</td>\n",
       "      <td>20.0</td>\n",
       "      <td>2018</td>\n",
       "    </tr>\n",
       "  </tbody>\n",
       "</table>\n",
       "</div>"
      ],
      "text/plain": [
       "          Date    ULSP    ULSD  ULSP.1  ULSD.1  ULSP.2  ULSD.2  Year\n",
       "760 2018-01-01  120.19  123.51   57.95   57.95    20.0    20.0  2018\n",
       "761 2018-08-01  120.52  123.97   57.95   57.95    20.0    20.0  2018\n",
       "762 2018-01-15  120.96  124.58   57.95   57.95    20.0    20.0  2018\n",
       "763 2018-01-22  121.50  125.07   57.95   57.95    20.0    20.0  2018\n",
       "764 2018-01-29  121.69  125.32   57.95   57.95    20.0    20.0  2018"
      ]
     },
     "execution_count": 32,
     "metadata": {},
     "output_type": "execute_result"
    }
   ],
   "source": [
    "new_df.head()"
   ]
  },
  {
   "cell_type": "code",
   "execution_count": 66,
   "metadata": {},
   "outputs": [
    {
     "data": {
      "image/png": "[encoded data removed]",
      "text/plain": [
       "<Figure size 432x288 with 1 Axes>"
      ]
     },
     "metadata": {
      "needs_background": "light"
     },
     "output_type": "display_data"
    }
   ],
   "source": [
    "x = df['Date']\n",
    "\n",
    "y = df['ULSP']\n",
    "\n",
    "plt.scatter(x, y)\n",
    "plt.xlabel('Pump in Prices of Petrol')\n",
    "plt.show()"
   ]
  },
  {
   "cell_type": "code",
   "execution_count": 67,
   "metadata": {
    "scrolled": true
   },
   "outputs": [
    {
     "data": {
      "image/png": "[encoded data removed]",
      "text/plain": [
       "<Figure size 432x288 with 1 Axes>"
      ]
     },
     "metadata": {
      "needs_background": "light"
     },
     "output_type": "display_data"
    }
   ],
   "source": [
    "x = df['Date']\n",
    "\n",
    "y = df['ULSD']\n",
    "\n",
    "plt.scatter(x, y)\n",
    "plt.xlabel('Pump in Prices of Diesel')\n",
    "plt.show()"
   ]
  },
  {
   "cell_type": "markdown",
   "metadata": {},
   "source": [
    "# Insight 4:\n",
    "We can infer from the graph that the increase in the petrol prices was higher as compared to others from the year 2012-2014.\n",
    "The diesel prices was higher as compared to others from the year 2011-2015. \n",
    "We can infer that there had been high inflation in the economy of UK during this period."
   ]
  },
  {
   "cell_type": "code",
   "execution_count": 68,
   "metadata": {},
   "outputs": [
    {
     "data": {
      "image/png": "[encoded data removed]",
      "text/plain": [
       "<Figure size 432x288 with 1 Axes>"
      ]
     },
     "metadata": {
      "needs_background": "light"
     },
     "output_type": "display_data"
    }
   ],
   "source": [
    "x = df['Date']\n",
    "\n",
    "y = df['ULSP.1']\n",
    "\n",
    "plt.plot(x, y)\n",
    "plt.xlabel('Duty Rate-Petrol')\n",
    "plt.show()"
   ]
  },
  {
   "cell_type": "code",
   "execution_count": 69,
   "metadata": {},
   "outputs": [
    {
     "data": {
      "image/png": "[encoded data removed]",
      "text/plain": [
       "<Figure size 432x288 with 1 Axes>"
      ]
     },
     "metadata": {
      "needs_background": "light"
     },
     "output_type": "display_data"
    }
   ],
   "source": [
    "x = df['Date']\n",
    "\n",
    "y = df['ULSD.1']\n",
    "\n",
    "plt.plot(x, y)\n",
    "plt.xlabel('Duty Rate-Diesel')\n",
    "plt.show()"
   ]
  },
  {
   "cell_type": "markdown",
   "metadata": {},
   "source": [
    "# Insight 5:\n",
    "We can infer from the graph that the duty prices of petrol and diesel have being increasing consistently from 2006 till 2011 and it has been constant ever since. "
   ]
  },
  {
   "cell_type": "code",
   "execution_count": 57,
   "metadata": {},
   "outputs": [
    {
     "data": {
      "image/png": "[encoded data removed]",
      "text/plain": [
       "<Figure size 432x288 with 1 Axes>"
      ]
     },
     "metadata": {
      "needs_background": "light"
     },
     "output_type": "display_data"
    }
   ],
   "source": [
    "x = df['Date']\n",
    "\n",
    "y = df['ULSP.2']\n",
    "\n",
    "plt.plot(x, y)\n",
    "\n",
    "plt.show()"
   ]
  },
  {
   "cell_type": "code",
   "execution_count": 61,
   "metadata": {},
   "outputs": [
    {
     "data": {
      "image/png": "[encoded data removed]",
      "text/plain": [
       "<Figure size 432x288 with 1 Axes>"
      ]
     },
     "metadata": {
      "needs_background": "light"
     },
     "output_type": "display_data"
    }
   ],
   "source": [
    "x = df['Date']\n",
    "\n",
    "y = df['ULSD.2']\n",
    "\n",
    "plt.plot(x, y)\n",
    "\n",
    "plt.show()"
   ]
  },
  {
   "cell_type": "markdown",
   "metadata": {},
   "source": [
    "# Insight 6:\n",
    "We can infer from the graph that the VAT% of petrol and diesel decreased from 2008 to 2010 to 15%. Also, the pump in prices graph shows that there was a huge pump in prices of petrol and diesel during the same period. \n",
    "So, we can say the government chose to increase the prices but decrease the VAT percentage."
   ]
  },
  {
   "cell_type": "code",
   "execution_count": null,
   "metadata": {},
   "outputs": [],
   "source": []
  }
 ],
 "metadata": {
  "kernelspec": {
   "display_name": "Python 3",
   "language": "python",
   "name": "python3"
  },
  "language_info": {
   "codemirror_mode": {
    "name": "ipython",
    "version": 3
   },
   "file_extension": ".py",
   "mimetype": "text/x-python",
   "name": "python",
   "nbconvert_exporter": "python",
   "pygments_lexer": "ipython3",
   "version": "3.7.6"
  }
 },
 "nbformat": 4,
 "nbformat_minor": 4
}
