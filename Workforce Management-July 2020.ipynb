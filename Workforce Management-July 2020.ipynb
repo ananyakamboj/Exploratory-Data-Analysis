{
 "cells": [
  {
   "cell_type": "markdown",
   "metadata": {},
   "source": [
    "## Workforce Management Information - Department for Education(July 2020)"
   ]
  },
  {
   "cell_type": "markdown",
   "metadata": {},
   "source": [
    "Monthly management information on staff numbers and paybill costs in the Department for Education family.\n",
    "\n",
    "For workforce numbers, both payroll and non-payroll (contingent labour, including consultants) information is provided, split between full-time equivalents (FTE) and headcount, with payroll staff numbers mapped to standard Civil Service grades.\n",
    "\n",
    "For costs, payroll paybill information is broken down into its component parts i.e. salaries, allowances, employers pensions contributions etc. For non-payroll costs, these are split between costs for consultancy and those of other non-payroll workers.\n",
    "\n",
    "Staffing numbers are as at the last day of the month for the reference month. Cost information is that for the reference month. "
   ]
  },
  {
   "cell_type": "code",
   "execution_count": 1,
   "metadata": {},
   "outputs": [],
   "source": [
    "import numpy as np\n",
    "import pandas as pd\n",
    "import matplotlib.pyplot as plt\n",
    "import seaborn as sns"
   ]
  },
  {
   "cell_type": "code",
   "execution_count": 2,
   "metadata": {},
   "outputs": [],
   "source": [
    "df=pd.read_csv('dfe.csv')"
   ]
  },
  {
   "cell_type": "code",
   "execution_count": 3,
   "metadata": {},
   "outputs": [
    {
     "data": {
      "text/html": [
       "<div>\n",
       "<style scoped>\n",
       "    .dataframe tbody tr th:only-of-type {\n",
       "        vertical-align: middle;\n",
       "    }\n",
       "\n",
       "    .dataframe tbody tr th {\n",
       "        vertical-align: top;\n",
       "    }\n",
       "\n",
       "    .dataframe thead th {\n",
       "        text-align: right;\n",
       "    }\n",
       "</style>\n",
       "<table border=\"1\" class=\"dataframe\">\n",
       "  <thead>\n",
       "    <tr style=\"text-align: right;\">\n",
       "      <th></th>\n",
       "      <th>Organisation Name</th>\n",
       "      <th>Organisation Type</th>\n",
       "      <th>Main, parent or sponsoring department</th>\n",
       "      <th>Payroll staff AO/AA Headcount</th>\n",
       "      <th>Payroll staff AO/AA Full-time Equivalent</th>\n",
       "      <th>Payroll staff EO Headcount</th>\n",
       "      <th>Payroll staff EO Full-time Equivalent</th>\n",
       "      <th>Payroll staff SEO/HEO Headcount</th>\n",
       "      <th>Payroll staff SEO/HEO Full-time Equivalent</th>\n",
       "      <th>Payroll staff Grade 6/7 Headcount</th>\n",
       "      <th>...</th>\n",
       "      <th>Payroll Staff Costs Non-consolidated performance payments</th>\n",
       "      <th>Payroll Staff Costs Overtime</th>\n",
       "      <th>Payroll Staff Costs Employer pension contributions</th>\n",
       "      <th>Payroll Staff Costs Employer national insurance contributions</th>\n",
       "      <th>Payroll Staff Costs Total paybill for payroll staff</th>\n",
       "      <th>Non-payroll Staff Total cost of contingent labour: agency (clerical and admin) staff, interim managers and specialist contractors</th>\n",
       "      <th>Non-payroll Staff Total cost of consultants/consultancy</th>\n",
       "      <th>Non-payroll Staff Total non-payroll (CCL) staff costs</th>\n",
       "      <th>Grand Total paybill/staffing (payroll and non-payroll) costs</th>\n",
       "      <th>Comments</th>\n",
       "    </tr>\n",
       "  </thead>\n",
       "  <tbody>\n",
       "    <tr>\n",
       "      <th>0</th>\n",
       "      <td>Department for Education</td>\n",
       "      <td>Ministerial Department</td>\n",
       "      <td>Department for Education</td>\n",
       "      <td>109.0</td>\n",
       "      <td>102.94</td>\n",
       "      <td>797.0</td>\n",
       "      <td>771.52</td>\n",
       "      <td>2361.0</td>\n",
       "      <td>2280.18</td>\n",
       "      <td>1815</td>\n",
       "      <td>...</td>\n",
       "      <td>-42388.7</td>\n",
       "      <td>123434.32</td>\n",
       "      <td>5057835.14</td>\n",
       "      <td>2155739.26</td>\n",
       "      <td>30948082.87</td>\n",
       "      <td>580421.37</td>\n",
       "      <td>174232.79</td>\n",
       "      <td>754654.16</td>\n",
       "      <td>31702737.03</td>\n",
       "      <td>Please note we are unable to split the conting...</td>\n",
       "    </tr>\n",
       "    <tr>\n",
       "      <th>1</th>\n",
       "      <td>Education &amp; Skills Funding Agency</td>\n",
       "      <td>Executive Agency</td>\n",
       "      <td>Department for Education</td>\n",
       "      <td>34.0</td>\n",
       "      <td>32.39</td>\n",
       "      <td>219.0</td>\n",
       "      <td>210.61</td>\n",
       "      <td>934.0</td>\n",
       "      <td>906.05</td>\n",
       "      <td>552</td>\n",
       "      <td>...</td>\n",
       "      <td>14450.0</td>\n",
       "      <td>5389.47</td>\n",
       "      <td>1650858.27</td>\n",
       "      <td>687558.36</td>\n",
       "      <td>8059459.09</td>\n",
       "      <td>124613.12</td>\n",
       "      <td>680.40</td>\n",
       "      <td>125293.52</td>\n",
       "      <td>8184752.61</td>\n",
       "      <td>NaN</td>\n",
       "    </tr>\n",
       "    <tr>\n",
       "      <th>2</th>\n",
       "      <td>Teaching Regulation Authority</td>\n",
       "      <td>Executive Agency</td>\n",
       "      <td>Department for Education</td>\n",
       "      <td>11.0</td>\n",
       "      <td>11.00</td>\n",
       "      <td>28.0</td>\n",
       "      <td>26.99</td>\n",
       "      <td>27.0</td>\n",
       "      <td>25.64</td>\n",
       "      <td>7</td>\n",
       "      <td>...</td>\n",
       "      <td>0.0</td>\n",
       "      <td>0.00</td>\n",
       "      <td>49654.08</td>\n",
       "      <td>18717.59</td>\n",
       "      <td>250402.64</td>\n",
       "      <td>10236.67</td>\n",
       "      <td>0.00</td>\n",
       "      <td>10236.67</td>\n",
       "      <td>260639.31</td>\n",
       "      <td>NaN</td>\n",
       "    </tr>\n",
       "    <tr>\n",
       "      <th>3</th>\n",
       "      <td>Standards and Testing Agency</td>\n",
       "      <td>Executive Agency</td>\n",
       "      <td>Department for Education</td>\n",
       "      <td>0.0</td>\n",
       "      <td>0.00</td>\n",
       "      <td>18.0</td>\n",
       "      <td>17.31</td>\n",
       "      <td>74.0</td>\n",
       "      <td>71.73</td>\n",
       "      <td>33</td>\n",
       "      <td>...</td>\n",
       "      <td>0.0</td>\n",
       "      <td>4132.77</td>\n",
       "      <td>127273.38</td>\n",
       "      <td>53551.97</td>\n",
       "      <td>648088.57</td>\n",
       "      <td>38329.42</td>\n",
       "      <td>0.00</td>\n",
       "      <td>38329.42</td>\n",
       "      <td>686417.99</td>\n",
       "      <td>NaN</td>\n",
       "    </tr>\n",
       "    <tr>\n",
       "      <th>4</th>\n",
       "      <td>The Office of the Children's Commissioner</td>\n",
       "      <td>Executive Non-Departmental Public Body</td>\n",
       "      <td>Department for Education</td>\n",
       "      <td>4.0</td>\n",
       "      <td>0.60</td>\n",
       "      <td>4.0</td>\n",
       "      <td>4.00</td>\n",
       "      <td>16.0</td>\n",
       "      <td>14.40</td>\n",
       "      <td>8</td>\n",
       "      <td>...</td>\n",
       "      <td>13995.0</td>\n",
       "      <td>NaN</td>\n",
       "      <td>34893.95</td>\n",
       "      <td>17046.54</td>\n",
       "      <td>199905.06</td>\n",
       "      <td>NaN</td>\n",
       "      <td>NaN</td>\n",
       "      <td>0.00</td>\n",
       "      <td>199905.06</td>\n",
       "      <td>NaN</td>\n",
       "    </tr>\n",
       "  </tbody>\n",
       "</table>\n",
       "<p>5 rows × 41 columns</p>\n",
       "</div>"
      ],
      "text/plain": [
       "                           Organisation Name  \\\n",
       "0                   Department for Education   \n",
       "1         Education & Skills Funding Agency    \n",
       "2              Teaching Regulation Authority   \n",
       "3               Standards and Testing Agency   \n",
       "4  The Office of the Children's Commissioner   \n",
       "\n",
       "                        Organisation Type  \\\n",
       "0                  Ministerial Department   \n",
       "1                        Executive Agency   \n",
       "2                        Executive Agency   \n",
       "3                        Executive Agency   \n",
       "4  Executive Non-Departmental Public Body   \n",
       "\n",
       "  Main, parent or sponsoring department  Payroll staff AO/AA Headcount  \\\n",
       "0              Department for Education                          109.0   \n",
       "1              Department for Education                           34.0   \n",
       "2              Department for Education                           11.0   \n",
       "3              Department for Education                            0.0   \n",
       "4              Department for Education                            4.0   \n",
       "\n",
       "   Payroll staff AO/AA Full-time Equivalent  Payroll staff EO Headcount  \\\n",
       "0                                    102.94                       797.0   \n",
       "1                                     32.39                       219.0   \n",
       "2                                     11.00                        28.0   \n",
       "3                                      0.00                        18.0   \n",
       "4                                      0.60                         4.0   \n",
       "\n",
       "   Payroll staff EO Full-time Equivalent  Payroll staff SEO/HEO Headcount  \\\n",
       "0                                 771.52                           2361.0   \n",
       "1                                 210.61                            934.0   \n",
       "2                                  26.99                             27.0   \n",
       "3                                  17.31                             74.0   \n",
       "4                                   4.00                             16.0   \n",
       "\n",
       "   Payroll staff SEO/HEO Full-time Equivalent  \\\n",
       "0                                     2280.18   \n",
       "1                                      906.05   \n",
       "2                                       25.64   \n",
       "3                                       71.73   \n",
       "4                                       14.40   \n",
       "\n",
       "   Payroll staff Grade 6/7 Headcount  ...  \\\n",
       "0                               1815  ...   \n",
       "1                                552  ...   \n",
       "2                                  7  ...   \n",
       "3                                 33  ...   \n",
       "4                                  8  ...   \n",
       "\n",
       "   Payroll Staff Costs Non-consolidated performance payments  \\\n",
       "0                                           -42388.7           \n",
       "1                                            14450.0           \n",
       "2                                                0.0           \n",
       "3                                                0.0           \n",
       "4                                            13995.0           \n",
       "\n",
       "   Payroll Staff Costs Overtime  \\\n",
       "0                     123434.32   \n",
       "1                       5389.47   \n",
       "2                          0.00   \n",
       "3                       4132.77   \n",
       "4                           NaN   \n",
       "\n",
       "   Payroll Staff Costs Employer pension contributions  \\\n",
       "0                                         5057835.14    \n",
       "1                                         1650858.27    \n",
       "2                                           49654.08    \n",
       "3                                          127273.38    \n",
       "4                                           34893.95    \n",
       "\n",
       "   Payroll Staff Costs Employer national insurance contributions  \\\n",
       "0                                         2155739.26               \n",
       "1                                          687558.36               \n",
       "2                                           18717.59               \n",
       "3                                           53551.97               \n",
       "4                                           17046.54               \n",
       "\n",
       "   Payroll Staff Costs Total paybill for payroll staff  \\\n",
       "0                                        30948082.87     \n",
       "1                                         8059459.09     \n",
       "2                                          250402.64     \n",
       "3                                          648088.57     \n",
       "4                                          199905.06     \n",
       "\n",
       "   Non-payroll Staff Total cost of contingent labour: agency (clerical and admin) staff, interim managers and specialist contractors  \\\n",
       "0                                          580421.37                                                                                   \n",
       "1                                          124613.12                                                                                   \n",
       "2                                           10236.67                                                                                   \n",
       "3                                           38329.42                                                                                   \n",
       "4                                                NaN                                                                                   \n",
       "\n",
       "   Non-payroll Staff Total cost of consultants/consultancy  \\\n",
       "0                                          174232.79         \n",
       "1                                             680.40         \n",
       "2                                               0.00         \n",
       "3                                               0.00         \n",
       "4                                                NaN         \n",
       "\n",
       "   Non-payroll Staff Total non-payroll (CCL) staff costs  \\\n",
       "0                                          754654.16       \n",
       "1                                          125293.52       \n",
       "2                                           10236.67       \n",
       "3                                           38329.42       \n",
       "4                                               0.00       \n",
       "\n",
       "   Grand Total paybill/staffing (payroll and non-payroll) costs  \\\n",
       "0                                        31702737.03              \n",
       "1                                         8184752.61              \n",
       "2                                          260639.31              \n",
       "3                                          686417.99              \n",
       "4                                          199905.06              \n",
       "\n",
       "                                            Comments  \n",
       "0  Please note we are unable to split the conting...  \n",
       "1                                                NaN  \n",
       "2                                                NaN  \n",
       "3                                                NaN  \n",
       "4                                                NaN  \n",
       "\n",
       "[5 rows x 41 columns]"
      ]
     },
     "execution_count": 3,
     "metadata": {},
     "output_type": "execute_result"
    }
   ],
   "source": [
    "df.head()"
   ]
  },
  {
   "cell_type": "code",
   "execution_count": 4,
   "metadata": {},
   "outputs": [
    {
     "data": {
      "text/plain": [
       "(11, 41)"
      ]
     },
     "execution_count": 4,
     "metadata": {},
     "output_type": "execute_result"
    }
   ],
   "source": [
    "df.shape"
   ]
  },
  {
   "cell_type": "code",
   "execution_count": 5,
   "metadata": {},
   "outputs": [
    {
     "data": {
      "text/plain": [
       "Index(['Organisation Name', 'Organisation Type',\n",
       "       'Main, parent or sponsoring department',\n",
       "       'Payroll staff AO/AA Headcount',\n",
       "       'Payroll staff AO/AA Full-time Equivalent',\n",
       "       'Payroll staff EO Headcount', 'Payroll staff EO Full-time Equivalent',\n",
       "       'Payroll staff SEO/HEO Headcount',\n",
       "       'Payroll staff SEO/HEO Full-time Equivalent',\n",
       "       'Payroll staff Grade 6/7 Headcount',\n",
       "       'Payroll staff Grade 6/7 Full-time Equivalent',\n",
       "       'Payroll staff SCS Headcount', 'Payroll staff SCS Full-time Equivalent',\n",
       "       'Payroll staff Other, unknown or unspecified Headcount',\n",
       "       'Payroll staff Other, unknown or unspecified Full-time Equivalent',\n",
       "       'Payroll staff Total Employees Headcount',\n",
       "       'Payroll staff Total Employees Full-time Equivalent',\n",
       "       'Non-payroll Staff Agency staff (clerical/admin) Headcount',\n",
       "       'Non-payroll Staff Agency staff (clerical/admin) Full-time Equivalent',\n",
       "       'Non-payroll Staff Intermin Managers Headcount',\n",
       "       'Non-payroll Staff Interim Managers Full-time Equivalent',\n",
       "       'Non-payroll Staff Specialist Contractors Headcount',\n",
       "       'Non-payroll Staff Specialist Contractors Full-time Equivalent',\n",
       "       'Non-payroll Staff Consultants/Consultancy Headcount',\n",
       "       'Non-payroll Staff Consultants/Consultancy Full-time Equivalent',\n",
       "       'Non-payroll Staff Total Employees Headcount',\n",
       "       'Non-payroll Staff Total Employees Full-time Equivalent',\n",
       "       'Grand Total (workforce numbers) Headcount',\n",
       "       'Grand Total (workforce numbers) Full-time Equivalent',\n",
       "       'Payroll Staff Costs Salary', 'Payroll Staff Costs Allowances',\n",
       "       'Payroll Staff Costs Non-consolidated performance payments',\n",
       "       'Payroll Staff Costs Overtime',\n",
       "       'Payroll Staff Costs Employer pension contributions',\n",
       "       'Payroll Staff Costs Employer national insurance contributions',\n",
       "       'Payroll Staff Costs Total paybill for payroll staff',\n",
       "       'Non-payroll Staff Total cost of contingent labour: agency (clerical and admin) staff, interim managers and specialist contractors',\n",
       "       'Non-payroll Staff Total cost of consultants/consultancy',\n",
       "       'Non-payroll Staff Total non-payroll (CCL) staff costs',\n",
       "       'Grand Total paybill/staffing (payroll and non-payroll) costs',\n",
       "       'Comments'],\n",
       "      dtype='object')"
      ]
     },
     "execution_count": 5,
     "metadata": {},
     "output_type": "execute_result"
    }
   ],
   "source": [
    "df.columns"
   ]
  },
  {
   "cell_type": "code",
   "execution_count": 6,
   "metadata": {},
   "outputs": [
    {
     "name": "stdout",
     "output_type": "stream",
     "text": [
      "<class 'pandas.core.frame.DataFrame'>\n",
      "RangeIndex: 11 entries, 0 to 10\n",
      "Data columns (total 41 columns):\n",
      " #   Column                                                                                                                             Non-Null Count  Dtype  \n",
      "---  ------                                                                                                                             --------------  -----  \n",
      " 0   Organisation Name                                                                                                                  11 non-null     object \n",
      " 1   Organisation Type                                                                                                                  11 non-null     object \n",
      " 2   Main, parent or sponsoring department                                                                                              11 non-null     object \n",
      " 3   Payroll staff AO/AA Headcount                                                                                                      9 non-null      float64\n",
      " 4   Payroll staff AO/AA Full-time Equivalent                                                                                           9 non-null      float64\n",
      " 5   Payroll staff EO Headcount                                                                                                         10 non-null     float64\n",
      " 6   Payroll staff EO Full-time Equivalent                                                                                              10 non-null     float64\n",
      " 7   Payroll staff SEO/HEO Headcount                                                                                                    10 non-null     float64\n",
      " 8   Payroll staff SEO/HEO Full-time Equivalent                                                                                         10 non-null     float64\n",
      " 9   Payroll staff Grade 6/7 Headcount                                                                                                  11 non-null     int64  \n",
      " 10  Payroll staff Grade 6/7 Full-time Equivalent                                                                                       11 non-null     float64\n",
      " 11  Payroll staff SCS Headcount                                                                                                        10 non-null     float64\n",
      " 12  Payroll staff SCS Full-time Equivalent                                                                                             10 non-null     float64\n",
      " 13  Payroll staff Other, unknown or unspecified Headcount                                                                              3 non-null      float64\n",
      " 14  Payroll staff Other, unknown or unspecified Full-time Equivalent                                                                   3 non-null      float64\n",
      " 15  Payroll staff Total Employees Headcount                                                                                            11 non-null     int64  \n",
      " 16  Payroll staff Total Employees Full-time Equivalent                                                                                 11 non-null     float64\n",
      " 17  Non-payroll Staff Agency staff (clerical/admin) Headcount                                                                          6 non-null      float64\n",
      " 18  Non-payroll Staff Agency staff (clerical/admin) Full-time Equivalent                                                               6 non-null      float64\n",
      " 19  Non-payroll Staff Intermin Managers Headcount                                                                                      3 non-null      float64\n",
      " 20  Non-payroll Staff Interim Managers Full-time Equivalent                                                                            3 non-null      float64\n",
      " 21  Non-payroll Staff Specialist Contractors Headcount                                                                                 7 non-null      float64\n",
      " 22  Non-payroll Staff Specialist Contractors Full-time Equivalent                                                                      7 non-null      float64\n",
      " 23  Non-payroll Staff Consultants/Consultancy Headcount                                                                                3 non-null      float64\n",
      " 24  Non-payroll Staff Consultants/Consultancy Full-time Equivalent                                                                     3 non-null      float64\n",
      " 25  Non-payroll Staff Total Employees Headcount                                                                                        11 non-null     int64  \n",
      " 26  Non-payroll Staff Total Employees Full-time Equivalent                                                                             11 non-null     float64\n",
      " 27  Grand Total (workforce numbers) Headcount                                                                                          11 non-null     int64  \n",
      " 28  Grand Total (workforce numbers) Full-time Equivalent                                                                               11 non-null     float64\n",
      " 29  Payroll Staff Costs Salary                                                                                                         11 non-null     float64\n",
      " 30  Payroll Staff Costs Allowances                                                                                                     9 non-null      float64\n",
      " 31  Payroll Staff Costs Non-consolidated performance payments                                                                          9 non-null      float64\n",
      " 32  Payroll Staff Costs Overtime                                                                                                       8 non-null      float64\n",
      " 33  Payroll Staff Costs Employer pension contributions                                                                                 11 non-null     float64\n",
      " 34  Payroll Staff Costs Employer national insurance contributions                                                                      11 non-null     float64\n",
      " 35  Payroll Staff Costs Total paybill for payroll staff                                                                                11 non-null     float64\n",
      " 36  Non-payroll Staff Total cost of contingent labour: agency (clerical and admin) staff, interim managers and specialist contractors  8 non-null      float64\n",
      " 37  Non-payroll Staff Total cost of consultants/consultancy                                                                            8 non-null      float64\n",
      " 38  Non-payroll Staff Total non-payroll (CCL) staff costs                                                                              11 non-null     float64\n",
      " 39  Grand Total paybill/staffing (payroll and non-payroll) costs                                                                       11 non-null     float64\n",
      " 40  Comments                                                                                                                           1 non-null      object \n",
      "dtypes: float64(33), int64(4), object(4)\n",
      "memory usage: 3.6+ KB\n"
     ]
    }
   ],
   "source": [
    "df.info()"
   ]
  },
  {
   "cell_type": "code",
   "execution_count": 7,
   "metadata": {},
   "outputs": [
    {
     "data": {
      "text/plain": [
       "Executive Non-Departmental Public Body    7\n",
       "Executive Agency                          3\n",
       "Ministerial Department                    1\n",
       "Name: Organisation Type, dtype: int64"
      ]
     },
     "execution_count": 7,
     "metadata": {},
     "output_type": "execute_result"
    }
   ],
   "source": [
    "df['Organisation Type'].value_counts()"
   ]
  },
  {
   "cell_type": "markdown",
   "metadata": {},
   "source": [
    "There are 7 organisation of type Executive Non-Departmental Public Body, 3 of Executive Agency and 1 of Ministerial Department.\n"
   ]
  },
  {
   "cell_type": "markdown",
   "metadata": {},
   "source": [
    "# Insight 1:\n",
    "\n",
    "1. The Ministerial Organisation has 5000+ payroll total staff.\n",
    "2. 2 of the Executive Agencies have 0 employees and only 1 has around 2000 employees in the payroll.\n",
    "3. One of the Non-Departmental Public Body has approx 3500 employees in payroll while others of the same type had fewer than 1000 employees."
   ]
  },
  {
   "cell_type": "code",
   "execution_count": 9,
   "metadata": {
    "scrolled": true
   },
   "outputs": [
    {
     "data": {
      "image/png": "[encoded data removed]",
      "text/plain": [
       "<Figure size 432x288 with 1 Axes>"
      ]
     },
     "metadata": {
      "needs_background": "light"
     },
     "output_type": "display_data"
    }
   ],
   "source": [
    "x=df['Organisation Type']\n",
    "y=df['Payroll staff Total Employees Headcount']\n",
    "plt.scatter(x,y)\n",
    "plt.show()"
   ]
  },
  {
   "cell_type": "code",
   "execution_count": 14,
   "metadata": {
    "scrolled": true
   },
   "outputs": [
    {
     "data": {
      "image/png": "[encoded data removed]",
      "text/plain": [
       "<Figure size 432x288 with 1 Axes>"
      ]
     },
     "metadata": {
      "needs_background": "light"
     },
     "output_type": "display_data"
    }
   ],
   "source": [
    "x=df['Organisation Type']\n",
    "y=df['Grand Total paybill/staffing (payroll and non-payroll) costs']\n",
    "plt.scatter(x,y)\n",
    "plt.show()"
   ]
  },
  {
   "cell_type": "markdown",
   "metadata": {},
   "source": [
    "# Insight 2:\n",
    "Having more number of payroll employees, Ministerial Department has the highest total cost including payroll and non-payroll of  more than 30 million."
   ]
  },
  {
   "cell_type": "code",
   "execution_count": 16,
   "metadata": {},
   "outputs": [
    {
     "data": {
      "text/plain": [
       "<matplotlib.axes._subplots.AxesSubplot at 0x1ce386db648>"
      ]
     },
     "execution_count": 16,
     "metadata": {},
     "output_type": "execute_result"
    },
    {
     "data": {
      "image/png": "[encoded data removed]",
      "text/plain": [
       "<Figure size 432x288 with 1 Axes>"
      ]
     },
     "metadata": {
      "needs_background": "light"
     },
     "output_type": "display_data"
    }
   ],
   "source": [
    "y=df['Payroll Staff Costs Employer pension contributions']\n",
    "x=df['Payroll staff Total Employees Headcount']\n",
    "sns.barplot(x=x, y=y, hue='Organisation Type', data=df)"
   ]
  },
  {
   "cell_type": "markdown",
   "metadata": {},
   "source": [
    "# Insight 3:\n",
    "Ministerial Department has the highest contributions for employees pensions"
   ]
  },
  {
   "cell_type": "code",
   "execution_count": 10,
   "metadata": {},
   "outputs": [
    {
     "data": {
      "text/html": [
       "<div>\n",
       "<style scoped>\n",
       "    .dataframe tbody tr th:only-of-type {\n",
       "        vertical-align: middle;\n",
       "    }\n",
       "\n",
       "    .dataframe tbody tr th {\n",
       "        vertical-align: top;\n",
       "    }\n",
       "\n",
       "    .dataframe thead th {\n",
       "        text-align: right;\n",
       "    }\n",
       "</style>\n",
       "<table border=\"1\" class=\"dataframe\">\n",
       "  <thead>\n",
       "    <tr style=\"text-align: right;\">\n",
       "      <th></th>\n",
       "      <th>Payroll staff AO/AA Headcount</th>\n",
       "      <th>Payroll staff AO/AA Full-time Equivalent</th>\n",
       "      <th>Payroll staff EO Headcount</th>\n",
       "      <th>Payroll staff EO Full-time Equivalent</th>\n",
       "      <th>Payroll staff SEO/HEO Headcount</th>\n",
       "      <th>Payroll staff SEO/HEO Full-time Equivalent</th>\n",
       "      <th>Payroll staff Grade 6/7 Headcount</th>\n",
       "      <th>Payroll staff Grade 6/7 Full-time Equivalent</th>\n",
       "      <th>Payroll staff SCS Headcount</th>\n",
       "      <th>Payroll staff SCS Full-time Equivalent</th>\n",
       "      <th>...</th>\n",
       "      <th>Payroll Staff Costs Allowances</th>\n",
       "      <th>Payroll Staff Costs Non-consolidated performance payments</th>\n",
       "      <th>Payroll Staff Costs Overtime</th>\n",
       "      <th>Payroll Staff Costs Employer pension contributions</th>\n",
       "      <th>Payroll Staff Costs Employer national insurance contributions</th>\n",
       "      <th>Payroll Staff Costs Total paybill for payroll staff</th>\n",
       "      <th>Non-payroll Staff Total cost of contingent labour: agency (clerical and admin) staff, interim managers and specialist contractors</th>\n",
       "      <th>Non-payroll Staff Total cost of consultants/consultancy</th>\n",
       "      <th>Non-payroll Staff Total non-payroll (CCL) staff costs</th>\n",
       "      <th>Grand Total paybill/staffing (payroll and non-payroll) costs</th>\n",
       "    </tr>\n",
       "  </thead>\n",
       "  <tbody>\n",
       "    <tr>\n",
       "      <th>count</th>\n",
       "      <td>9.000000</td>\n",
       "      <td>9.000000</td>\n",
       "      <td>10.000000</td>\n",
       "      <td>10.00000</td>\n",
       "      <td>10.000000</td>\n",
       "      <td>10.000000</td>\n",
       "      <td>11.000000</td>\n",
       "      <td>11.000000</td>\n",
       "      <td>10.000000</td>\n",
       "      <td>10.000000</td>\n",
       "      <td>...</td>\n",
       "      <td>9.000000</td>\n",
       "      <td>9.000000e+00</td>\n",
       "      <td>8.000000</td>\n",
       "      <td>1.100000e+01</td>\n",
       "      <td>1.100000e+01</td>\n",
       "      <td>1.100000e+01</td>\n",
       "      <td>8.000000</td>\n",
       "      <td>8.000000</td>\n",
       "      <td>11.000000</td>\n",
       "      <td>1.100000e+01</td>\n",
       "    </tr>\n",
       "    <tr>\n",
       "      <th>mean</th>\n",
       "      <td>261.444444</td>\n",
       "      <td>246.827778</td>\n",
       "      <td>258.600000</td>\n",
       "      <td>251.30800</td>\n",
       "      <td>421.700000</td>\n",
       "      <td>407.776000</td>\n",
       "      <td>246.636364</td>\n",
       "      <td>237.422727</td>\n",
       "      <td>30.800000</td>\n",
       "      <td>29.563000</td>\n",
       "      <td>...</td>\n",
       "      <td>127947.164444</td>\n",
       "      <td>1.617948e+05</td>\n",
       "      <td>43572.250000</td>\n",
       "      <td>8.098162e+05</td>\n",
       "      <td>3.916289e+05</td>\n",
       "      <td>5.222070e+06</td>\n",
       "      <td>117144.096250</td>\n",
       "      <td>31318.711250</td>\n",
       "      <td>107972.950909</td>\n",
       "      <td>5.330043e+06</td>\n",
       "    </tr>\n",
       "    <tr>\n",
       "      <th>std</th>\n",
       "      <td>687.065883</td>\n",
       "      <td>650.476169</td>\n",
       "      <td>375.438766</td>\n",
       "      <td>364.56101</td>\n",
       "      <td>734.272891</td>\n",
       "      <td>709.526433</td>\n",
       "      <td>544.324586</td>\n",
       "      <td>523.071339</td>\n",
       "      <td>57.379439</td>\n",
       "      <td>54.779696</td>\n",
       "      <td>...</td>\n",
       "      <td>179930.977589</td>\n",
       "      <td>4.908772e+05</td>\n",
       "      <td>81503.716915</td>\n",
       "      <td>1.508351e+06</td>\n",
       "      <td>6.503290e+05</td>\n",
       "      <td>9.232253e+06</td>\n",
       "      <td>190830.440357</td>\n",
       "      <td>65570.813101</td>\n",
       "      <td>217932.339114</td>\n",
       "      <td>9.440805e+06</td>\n",
       "    </tr>\n",
       "    <tr>\n",
       "      <th>min</th>\n",
       "      <td>0.000000</td>\n",
       "      <td>0.000000</td>\n",
       "      <td>4.000000</td>\n",
       "      <td>4.00000</td>\n",
       "      <td>16.000000</td>\n",
       "      <td>14.400000</td>\n",
       "      <td>3.000000</td>\n",
       "      <td>3.000000</td>\n",
       "      <td>1.000000</td>\n",
       "      <td>1.000000</td>\n",
       "      <td>...</td>\n",
       "      <td>2122.160000</td>\n",
       "      <td>-4.238870e+04</td>\n",
       "      <td>0.000000</td>\n",
       "      <td>1.473116e+04</td>\n",
       "      <td>1.704654e+04</td>\n",
       "      <td>1.999051e+05</td>\n",
       "      <td>7200.000000</td>\n",
       "      <td>-15261.460000</td>\n",
       "      <td>0.000000</td>\n",
       "      <td>1.999051e+05</td>\n",
       "    </tr>\n",
       "    <tr>\n",
       "      <th>25%</th>\n",
       "      <td>10.000000</td>\n",
       "      <td>10.000000</td>\n",
       "      <td>13.500000</td>\n",
       "      <td>12.57750</td>\n",
       "      <td>37.250000</td>\n",
       "      <td>35.800000</td>\n",
       "      <td>7.500000</td>\n",
       "      <td>7.210000</td>\n",
       "      <td>4.250000</td>\n",
       "      <td>4.250000</td>\n",
       "      <td>...</td>\n",
       "      <td>5271.710000</td>\n",
       "      <td>0.000000e+00</td>\n",
       "      <td>0.000000</td>\n",
       "      <td>4.384004e+04</td>\n",
       "      <td>3.420155e+04</td>\n",
       "      <td>3.837643e+05</td>\n",
       "      <td>31306.232500</td>\n",
       "      <td>0.000000</td>\n",
       "      <td>11374.335000</td>\n",
       "      <td>3.900203e+05</td>\n",
       "    </tr>\n",
       "    <tr>\n",
       "      <th>50%</th>\n",
       "      <td>18.000000</td>\n",
       "      <td>17.220000</td>\n",
       "      <td>29.000000</td>\n",
       "      <td>28.39500</td>\n",
       "      <td>139.000000</td>\n",
       "      <td>130.395000</td>\n",
       "      <td>25.000000</td>\n",
       "      <td>25.000000</td>\n",
       "      <td>6.000000</td>\n",
       "      <td>6.000000</td>\n",
       "      <td>...</td>\n",
       "      <td>38437.000000</td>\n",
       "      <td>0.000000e+00</td>\n",
       "      <td>2166.705000</td>\n",
       "      <td>1.622444e+05</td>\n",
       "      <td>9.502677e+04</td>\n",
       "      <td>1.088238e+06</td>\n",
       "      <td>54610.095000</td>\n",
       "      <td>340.200000</td>\n",
       "      <td>45088.740000</td>\n",
       "      <td>1.173824e+06</td>\n",
       "    </tr>\n",
       "    <tr>\n",
       "      <th>75%</th>\n",
       "      <td>76.000000</td>\n",
       "      <td>68.300000</td>\n",
       "      <td>382.500000</td>\n",
       "      <td>376.05250</td>\n",
       "      <td>264.000000</td>\n",
       "      <td>260.425000</td>\n",
       "      <td>123.000000</td>\n",
       "      <td>116.695000</td>\n",
       "      <td>28.750000</td>\n",
       "      <td>27.580000</td>\n",
       "      <td>...</td>\n",
       "      <td>186307.680000</td>\n",
       "      <td>1.399500e+04</td>\n",
       "      <td>34900.682500</td>\n",
       "      <td>7.804770e+05</td>\n",
       "      <td>4.562741e+05</td>\n",
       "      <td>5.429674e+06</td>\n",
       "      <td>81502.280000</td>\n",
       "      <td>25380.490000</td>\n",
       "      <td>76358.980000</td>\n",
       "      <td>5.516756e+06</td>\n",
       "    </tr>\n",
       "    <tr>\n",
       "      <th>max</th>\n",
       "      <td>2091.000000</td>\n",
       "      <td>1979.000000</td>\n",
       "      <td>1030.000000</td>\n",
       "      <td>1000.00000</td>\n",
       "      <td>2361.000000</td>\n",
       "      <td>2280.180000</td>\n",
       "      <td>1815.000000</td>\n",
       "      <td>1742.880000</td>\n",
       "      <td>187.000000</td>\n",
       "      <td>178.800000</td>\n",
       "      <td>...</td>\n",
       "      <td>558020.270000</td>\n",
       "      <td>1.470061e+06</td>\n",
       "      <td>215420.800000</td>\n",
       "      <td>5.057835e+06</td>\n",
       "      <td>2.155739e+06</td>\n",
       "      <td>3.094808e+07</td>\n",
       "      <td>580421.370000</td>\n",
       "      <td>174232.790000</td>\n",
       "      <td>754654.160000</td>\n",
       "      <td>3.170274e+07</td>\n",
       "    </tr>\n",
       "  </tbody>\n",
       "</table>\n",
       "<p>8 rows × 37 columns</p>\n",
       "</div>"
      ],
      "text/plain": [
       "       Payroll staff AO/AA Headcount  \\\n",
       "count                       9.000000   \n",
       "mean                      261.444444   \n",
       "std                       687.065883   \n",
       "min                         0.000000   \n",
       "25%                        10.000000   \n",
       "50%                        18.000000   \n",
       "75%                        76.000000   \n",
       "max                      2091.000000   \n",
       "\n",
       "       Payroll staff AO/AA Full-time Equivalent  Payroll staff EO Headcount  \\\n",
       "count                                  9.000000                   10.000000   \n",
       "mean                                 246.827778                  258.600000   \n",
       "std                                  650.476169                  375.438766   \n",
       "min                                    0.000000                    4.000000   \n",
       "25%                                   10.000000                   13.500000   \n",
       "50%                                   17.220000                   29.000000   \n",
       "75%                                   68.300000                  382.500000   \n",
       "max                                 1979.000000                 1030.000000   \n",
       "\n",
       "       Payroll staff EO Full-time Equivalent  Payroll staff SEO/HEO Headcount  \\\n",
       "count                               10.00000                        10.000000   \n",
       "mean                               251.30800                       421.700000   \n",
       "std                                364.56101                       734.272891   \n",
       "min                                  4.00000                        16.000000   \n",
       "25%                                 12.57750                        37.250000   \n",
       "50%                                 28.39500                       139.000000   \n",
       "75%                                376.05250                       264.000000   \n",
       "max                               1000.00000                      2361.000000   \n",
       "\n",
       "       Payroll staff SEO/HEO Full-time Equivalent  \\\n",
       "count                                   10.000000   \n",
       "mean                                   407.776000   \n",
       "std                                    709.526433   \n",
       "min                                     14.400000   \n",
       "25%                                     35.800000   \n",
       "50%                                    130.395000   \n",
       "75%                                    260.425000   \n",
       "max                                   2280.180000   \n",
       "\n",
       "       Payroll staff Grade 6/7 Headcount  \\\n",
       "count                          11.000000   \n",
       "mean                          246.636364   \n",
       "std                           544.324586   \n",
       "min                             3.000000   \n",
       "25%                             7.500000   \n",
       "50%                            25.000000   \n",
       "75%                           123.000000   \n",
       "max                          1815.000000   \n",
       "\n",
       "       Payroll staff Grade 6/7 Full-time Equivalent  \\\n",
       "count                                     11.000000   \n",
       "mean                                     237.422727   \n",
       "std                                      523.071339   \n",
       "min                                        3.000000   \n",
       "25%                                        7.210000   \n",
       "50%                                       25.000000   \n",
       "75%                                      116.695000   \n",
       "max                                     1742.880000   \n",
       "\n",
       "       Payroll staff SCS Headcount  Payroll staff SCS Full-time Equivalent  \\\n",
       "count                    10.000000                               10.000000   \n",
       "mean                     30.800000                               29.563000   \n",
       "std                      57.379439                               54.779696   \n",
       "min                       1.000000                                1.000000   \n",
       "25%                       4.250000                                4.250000   \n",
       "50%                       6.000000                                6.000000   \n",
       "75%                      28.750000                               27.580000   \n",
       "max                     187.000000                              178.800000   \n",
       "\n",
       "       ...  Payroll Staff Costs Allowances  \\\n",
       "count  ...                        9.000000   \n",
       "mean   ...                   127947.164444   \n",
       "std    ...                   179930.977589   \n",
       "min    ...                     2122.160000   \n",
       "25%    ...                     5271.710000   \n",
       "50%    ...                    38437.000000   \n",
       "75%    ...                   186307.680000   \n",
       "max    ...                   558020.270000   \n",
       "\n",
       "       Payroll Staff Costs Non-consolidated performance payments  \\\n",
       "count                                       9.000000e+00           \n",
       "mean                                        1.617948e+05           \n",
       "std                                         4.908772e+05           \n",
       "min                                        -4.238870e+04           \n",
       "25%                                         0.000000e+00           \n",
       "50%                                         0.000000e+00           \n",
       "75%                                         1.399500e+04           \n",
       "max                                         1.470061e+06           \n",
       "\n",
       "       Payroll Staff Costs Overtime  \\\n",
       "count                      8.000000   \n",
       "mean                   43572.250000   \n",
       "std                    81503.716915   \n",
       "min                        0.000000   \n",
       "25%                        0.000000   \n",
       "50%                     2166.705000   \n",
       "75%                    34900.682500   \n",
       "max                   215420.800000   \n",
       "\n",
       "       Payroll Staff Costs Employer pension contributions  \\\n",
       "count                                       1.100000e+01    \n",
       "mean                                        8.098162e+05    \n",
       "std                                         1.508351e+06    \n",
       "min                                         1.473116e+04    \n",
       "25%                                         4.384004e+04    \n",
       "50%                                         1.622444e+05    \n",
       "75%                                         7.804770e+05    \n",
       "max                                         5.057835e+06    \n",
       "\n",
       "       Payroll Staff Costs Employer national insurance contributions  \\\n",
       "count                                       1.100000e+01               \n",
       "mean                                        3.916289e+05               \n",
       "std                                         6.503290e+05               \n",
       "min                                         1.704654e+04               \n",
       "25%                                         3.420155e+04               \n",
       "50%                                         9.502677e+04               \n",
       "75%                                         4.562741e+05               \n",
       "max                                         2.155739e+06               \n",
       "\n",
       "       Payroll Staff Costs Total paybill for payroll staff  \\\n",
       "count                                       1.100000e+01     \n",
       "mean                                        5.222070e+06     \n",
       "std                                         9.232253e+06     \n",
       "min                                         1.999051e+05     \n",
       "25%                                         3.837643e+05     \n",
       "50%                                         1.088238e+06     \n",
       "75%                                         5.429674e+06     \n",
       "max                                         3.094808e+07     \n",
       "\n",
       "       Non-payroll Staff Total cost of contingent labour: agency (clerical and admin) staff, interim managers and specialist contractors  \\\n",
       "count                                           8.000000                                                                                   \n",
       "mean                                       117144.096250                                                                                   \n",
       "std                                        190830.440357                                                                                   \n",
       "min                                          7200.000000                                                                                   \n",
       "25%                                         31306.232500                                                                                   \n",
       "50%                                         54610.095000                                                                                   \n",
       "75%                                         81502.280000                                                                                   \n",
       "max                                        580421.370000                                                                                   \n",
       "\n",
       "       Non-payroll Staff Total cost of consultants/consultancy  \\\n",
       "count                                           8.000000         \n",
       "mean                                        31318.711250         \n",
       "std                                         65570.813101         \n",
       "min                                        -15261.460000         \n",
       "25%                                             0.000000         \n",
       "50%                                           340.200000         \n",
       "75%                                         25380.490000         \n",
       "max                                        174232.790000         \n",
       "\n",
       "       Non-payroll Staff Total non-payroll (CCL) staff costs  \\\n",
       "count                                          11.000000       \n",
       "mean                                       107972.950909       \n",
       "std                                        217932.339114       \n",
       "min                                             0.000000       \n",
       "25%                                         11374.335000       \n",
       "50%                                         45088.740000       \n",
       "75%                                         76358.980000       \n",
       "max                                        754654.160000       \n",
       "\n",
       "       Grand Total paybill/staffing (payroll and non-payroll) costs  \n",
       "count                                       1.100000e+01             \n",
       "mean                                        5.330043e+06             \n",
       "std                                         9.440805e+06             \n",
       "min                                         1.999051e+05             \n",
       "25%                                         3.900203e+05             \n",
       "50%                                         1.173824e+06             \n",
       "75%                                         5.516756e+06             \n",
       "max                                         3.170274e+07             \n",
       "\n",
       "[8 rows x 37 columns]"
      ]
     },
     "execution_count": 10,
     "metadata": {},
     "output_type": "execute_result"
    }
   ],
   "source": [
    "df.describe()"
   ]
  },
  {
   "cell_type": "code",
   "execution_count": 18,
   "metadata": {},
   "outputs": [
    {
     "name": "stdout",
     "output_type": "stream",
     "text": [
      "0     10345.32\n",
      "1      3526.81\n",
      "2       145.45\n",
      "3       255.83\n",
      "4        66.60\n",
      "5      1604.40\n",
      "6       146.00\n",
      "7       788.55\n",
      "8      6639.00\n",
      "9       369.81\n",
      "10      116.80\n",
      "Name: Total_Payroll_Employees, dtype: float64\n"
     ]
    }
   ],
   "source": [
    "df['Total_Payroll_Employees']=df['Payroll staff Total Employees Headcount']+df['Payroll staff Total Employees Full-time Equivalent']\n",
    "print(df['Total_Payroll_Employees'])"
   ]
  },
  {
   "cell_type": "code",
   "execution_count": 24,
   "metadata": {},
   "outputs": [
    {
     "name": "stdout",
     "output_type": "stream",
     "text": [
      "24004.57\n"
     ]
    }
   ],
   "source": [
    "a=df['Total_Payroll_Employees'].sum()\n",
    "print(a)"
   ]
  },
  {
   "cell_type": "code",
   "execution_count": 25,
   "metadata": {},
   "outputs": [
    {
     "name": "stdout",
     "output_type": "stream",
     "text": [
      "57442770.480000004\n"
     ]
    }
   ],
   "source": [
    "b=df['Payroll Staff Costs Total paybill for payroll staff'].sum()\n",
    "print(b)"
   ]
  },
  {
   "cell_type": "code",
   "execution_count": 26,
   "metadata": {},
   "outputs": [
    {
     "name": "stdout",
     "output_type": "stream",
     "text": [
      "Overall average Expense for Payroll employees 239299.31042297368\n"
     ]
    }
   ],
   "source": [
    "print('Overall average Expense for Payroll employees',(b/a)*100)"
   ]
  },
  {
   "cell_type": "code",
   "execution_count": 31,
   "metadata": {},
   "outputs": [],
   "source": [
    "df['Avg_Payroll_Expense']=df['Payroll Staff Costs Total paybill for payroll staff']/df['Payroll staff Total Employees Headcount']"
   ]
  },
  {
   "cell_type": "code",
   "execution_count": 32,
   "metadata": {},
   "outputs": [
    {
     "name": "stdout",
     "output_type": "stream",
     "text": [
      "0     5873.616032\n",
      "1     4499.977158\n",
      "2     3383.819459\n",
      "3     4985.296692\n",
      "4     5552.918333\n",
      "5     3452.391443\n",
      "6     5202.432432\n",
      "7     4660.395403\n",
      "8     3175.677622\n",
      "9     5850.743925\n",
      "10    6483.873390\n",
      "Name: Avg_Payroll_Expense, dtype: float64\n"
     ]
    }
   ],
   "source": [
    "print(df['Avg_Payroll_Expense'])"
   ]
  },
  {
   "cell_type": "code",
   "execution_count": 33,
   "metadata": {},
   "outputs": [
    {
     "data": {
      "image/png": "[encoded data removed]",
      "text/plain": [
       "<Figure size 432x288 with 1 Axes>"
      ]
     },
     "metadata": {
      "needs_background": "light"
     },
     "output_type": "display_data"
    }
   ],
   "source": [
    "y=df['Avg_Payroll_Expense']\n",
    "x=df['Organisation Type']\n",
    "plt.bar(x,y)\n",
    "plt.show()"
   ]
  },
  {
   "cell_type": "markdown",
   "metadata": {},
   "source": [
    "# Insight 4:\n",
    "Executive Non-Departmental Public Body has has the highest mean for employees payroll.We can infer than this type of organisation pays more to the payroll employees than other organisations.\n"
   ]
  },
  {
   "cell_type": "code",
   "execution_count": 34,
   "metadata": {},
   "outputs": [
    {
     "data": {
      "text/plain": [
       "<matplotlib.axes._subplots.AxesSubplot at 0x1ce3854e748>"
      ]
     },
     "execution_count": 34,
     "metadata": {},
     "output_type": "execute_result"
    },
    {
     "data": {
      "image/png": "[encoded data removed]",
      "text/plain": [
       "<Figure size 432x288 with 1 Axes>"
      ]
     },
     "metadata": {
      "needs_background": "light"
     },
     "output_type": "display_data"
    }
   ],
   "source": [
    "y=df['Non-payroll Staff Total non-payroll (CCL) staff costs']\n",
    "x=df['Non-payroll Staff Total Employees Headcount']\n",
    "sns.barplot(x=x, y=y, hue='Organisation Type', data=df)"
   ]
  },
  {
   "cell_type": "code",
   "execution_count": 35,
   "metadata": {},
   "outputs": [],
   "source": [
    "df['Avg_Non-Payroll_Expense']=df['Non-payroll Staff Total non-payroll (CCL) staff costs']/df['Non-payroll Staff Total Employees Headcount']"
   ]
  },
  {
   "cell_type": "code",
   "execution_count": 36,
   "metadata": {},
   "outputs": [
    {
     "data": {
      "image/png": "[encoded data removed]",
      "text/plain": [
       "<Figure size 432x288 with 1 Axes>"
      ]
     },
     "metadata": {
      "needs_background": "light"
     },
     "output_type": "display_data"
    }
   ],
   "source": [
    "y=df['Avg_Non-Payroll_Expense']\n",
    "x=df['Organisation Type']\n",
    "plt.bar(x,y)\n",
    "plt.show()"
   ]
  },
  {
   "cell_type": "markdown",
   "metadata": {},
   "source": [
    "# Insight 5:\n",
    "Ministerial Department has the highest non-payroll staff costs.\n",
    "Executive Agencies pay more to the non-payroll employees than other organisations."
   ]
  },
  {
   "cell_type": "code",
   "execution_count": null,
   "metadata": {},
   "outputs": [],
   "source": []
  }
 ],
 "metadata": {
  "kernelspec": {
   "display_name": "Python 3",
   "language": "python",
   "name": "python3"
  },
  "language_info": {
   "codemirror_mode": {
    "name": "ipython",
    "version": 3
   },
   "file_extension": ".py",
   "mimetype": "text/x-python",
   "name": "python",
   "nbconvert_exporter": "python",
   "pygments_lexer": "ipython3",
   "version": "3.7.6"
  }
 },
 "nbformat": 4,
 "nbformat_minor": 4
}
